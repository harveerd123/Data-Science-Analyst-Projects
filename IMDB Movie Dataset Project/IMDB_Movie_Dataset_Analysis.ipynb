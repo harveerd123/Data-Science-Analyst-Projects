{
 "cells": [
  {
   "cell_type": "code",
   "execution_count": 4,
   "id": "abc78487",
   "metadata": {},
   "outputs": [],
   "source": [
    "import pandas as pd\n",
    "import seaborn as sns\n",
    "import matplotlib.pyplot as plt"
   ]
  },
  {
   "cell_type": "code",
   "execution_count": 5,
   "id": "95c05351",
   "metadata": {},
   "outputs": [],
   "source": [
    "data = pd.read_csv('IMDB-Movie-Data.csv')"
   ]
  },
  {
   "cell_type": "markdown",
   "id": "03f5de0d",
   "metadata": {},
   "source": [
    "#### 1. Display Top 10 rows of dataset"
   ]
  },
  {
   "cell_type": "code",
   "execution_count": 10,
   "id": "60d8b668",
   "metadata": {},
   "outputs": [
    {
     "data": {
      "text/html": [
       "<div>\n",
       "<style scoped>\n",
       "    .dataframe tbody tr th:only-of-type {\n",
       "        vertical-align: middle;\n",
       "    }\n",
       "\n",
       "    .dataframe tbody tr th {\n",
       "        vertical-align: top;\n",
       "    }\n",
       "\n",
       "    .dataframe thead th {\n",
       "        text-align: right;\n",
       "    }\n",
       "</style>\n",
       "<table border=\"1\" class=\"dataframe\">\n",
       "  <thead>\n",
       "    <tr style=\"text-align: right;\">\n",
       "      <th></th>\n",
       "      <th>Rank</th>\n",
       "      <th>Title</th>\n",
       "      <th>Genre</th>\n",
       "      <th>Description</th>\n",
       "      <th>Director</th>\n",
       "      <th>Actors</th>\n",
       "      <th>Year</th>\n",
       "      <th>Runtime (Minutes)</th>\n",
       "      <th>Rating</th>\n",
       "      <th>Votes</th>\n",
       "      <th>Revenue (Millions)</th>\n",
       "      <th>Metascore</th>\n",
       "    </tr>\n",
       "  </thead>\n",
       "  <tbody>\n",
       "    <tr>\n",
       "      <th>0</th>\n",
       "      <td>1</td>\n",
       "      <td>Guardians of the Galaxy</td>\n",
       "      <td>Action,Adventure,Sci-Fi</td>\n",
       "      <td>A group of intergalactic criminals are forced ...</td>\n",
       "      <td>James Gunn</td>\n",
       "      <td>Chris Pratt, Vin Diesel, Bradley Cooper, Zoe S...</td>\n",
       "      <td>2014</td>\n",
       "      <td>121</td>\n",
       "      <td>8.1</td>\n",
       "      <td>757074</td>\n",
       "      <td>333.13</td>\n",
       "      <td>76.0</td>\n",
       "    </tr>\n",
       "    <tr>\n",
       "      <th>1</th>\n",
       "      <td>2</td>\n",
       "      <td>Prometheus</td>\n",
       "      <td>Adventure,Mystery,Sci-Fi</td>\n",
       "      <td>Following clues to the origin of mankind, a te...</td>\n",
       "      <td>Ridley Scott</td>\n",
       "      <td>Noomi Rapace, Logan Marshall-Green, Michael Fa...</td>\n",
       "      <td>2012</td>\n",
       "      <td>124</td>\n",
       "      <td>7.0</td>\n",
       "      <td>485820</td>\n",
       "      <td>126.46</td>\n",
       "      <td>65.0</td>\n",
       "    </tr>\n",
       "    <tr>\n",
       "      <th>2</th>\n",
       "      <td>3</td>\n",
       "      <td>Split</td>\n",
       "      <td>Horror,Thriller</td>\n",
       "      <td>Three girls are kidnapped by a man with a diag...</td>\n",
       "      <td>M. Night Shyamalan</td>\n",
       "      <td>James McAvoy, Anya Taylor-Joy, Haley Lu Richar...</td>\n",
       "      <td>2016</td>\n",
       "      <td>117</td>\n",
       "      <td>7.3</td>\n",
       "      <td>157606</td>\n",
       "      <td>138.12</td>\n",
       "      <td>62.0</td>\n",
       "    </tr>\n",
       "    <tr>\n",
       "      <th>3</th>\n",
       "      <td>4</td>\n",
       "      <td>Sing</td>\n",
       "      <td>Animation,Comedy,Family</td>\n",
       "      <td>In a city of humanoid animals, a hustling thea...</td>\n",
       "      <td>Christophe Lourdelet</td>\n",
       "      <td>Matthew McConaughey,Reese Witherspoon, Seth Ma...</td>\n",
       "      <td>2016</td>\n",
       "      <td>108</td>\n",
       "      <td>7.2</td>\n",
       "      <td>60545</td>\n",
       "      <td>270.32</td>\n",
       "      <td>59.0</td>\n",
       "    </tr>\n",
       "    <tr>\n",
       "      <th>4</th>\n",
       "      <td>5</td>\n",
       "      <td>Suicide Squad</td>\n",
       "      <td>Action,Adventure,Fantasy</td>\n",
       "      <td>A secret government agency recruits some of th...</td>\n",
       "      <td>David Ayer</td>\n",
       "      <td>Will Smith, Jared Leto, Margot Robbie, Viola D...</td>\n",
       "      <td>2016</td>\n",
       "      <td>123</td>\n",
       "      <td>6.2</td>\n",
       "      <td>393727</td>\n",
       "      <td>325.02</td>\n",
       "      <td>40.0</td>\n",
       "    </tr>\n",
       "    <tr>\n",
       "      <th>5</th>\n",
       "      <td>6</td>\n",
       "      <td>The Great Wall</td>\n",
       "      <td>Action,Adventure,Fantasy</td>\n",
       "      <td>European mercenaries searching for black powde...</td>\n",
       "      <td>Yimou Zhang</td>\n",
       "      <td>Matt Damon, Tian Jing, Willem Dafoe, Andy Lau</td>\n",
       "      <td>2016</td>\n",
       "      <td>103</td>\n",
       "      <td>6.1</td>\n",
       "      <td>56036</td>\n",
       "      <td>45.13</td>\n",
       "      <td>42.0</td>\n",
       "    </tr>\n",
       "    <tr>\n",
       "      <th>6</th>\n",
       "      <td>7</td>\n",
       "      <td>La La Land</td>\n",
       "      <td>Comedy,Drama,Music</td>\n",
       "      <td>A jazz pianist falls for an aspiring actress i...</td>\n",
       "      <td>Damien Chazelle</td>\n",
       "      <td>Ryan Gosling, Emma Stone, Rosemarie DeWitt, J....</td>\n",
       "      <td>2016</td>\n",
       "      <td>128</td>\n",
       "      <td>8.3</td>\n",
       "      <td>258682</td>\n",
       "      <td>151.06</td>\n",
       "      <td>93.0</td>\n",
       "    </tr>\n",
       "    <tr>\n",
       "      <th>7</th>\n",
       "      <td>8</td>\n",
       "      <td>Mindhorn</td>\n",
       "      <td>Comedy</td>\n",
       "      <td>A has-been actor best known for playing the ti...</td>\n",
       "      <td>Sean Foley</td>\n",
       "      <td>Essie Davis, Andrea Riseborough, Julian Barrat...</td>\n",
       "      <td>2016</td>\n",
       "      <td>89</td>\n",
       "      <td>6.4</td>\n",
       "      <td>2490</td>\n",
       "      <td>NaN</td>\n",
       "      <td>71.0</td>\n",
       "    </tr>\n",
       "    <tr>\n",
       "      <th>8</th>\n",
       "      <td>9</td>\n",
       "      <td>The Lost City of Z</td>\n",
       "      <td>Action,Adventure,Biography</td>\n",
       "      <td>A true-life drama, centering on British explor...</td>\n",
       "      <td>James Gray</td>\n",
       "      <td>Charlie Hunnam, Robert Pattinson, Sienna Mille...</td>\n",
       "      <td>2016</td>\n",
       "      <td>141</td>\n",
       "      <td>7.1</td>\n",
       "      <td>7188</td>\n",
       "      <td>8.01</td>\n",
       "      <td>78.0</td>\n",
       "    </tr>\n",
       "    <tr>\n",
       "      <th>9</th>\n",
       "      <td>10</td>\n",
       "      <td>Passengers</td>\n",
       "      <td>Adventure,Drama,Romance</td>\n",
       "      <td>A spacecraft traveling to a distant colony pla...</td>\n",
       "      <td>Morten Tyldum</td>\n",
       "      <td>Jennifer Lawrence, Chris Pratt, Michael Sheen,...</td>\n",
       "      <td>2016</td>\n",
       "      <td>116</td>\n",
       "      <td>7.0</td>\n",
       "      <td>192177</td>\n",
       "      <td>100.01</td>\n",
       "      <td>41.0</td>\n",
       "    </tr>\n",
       "  </tbody>\n",
       "</table>\n",
       "</div>"
      ],
      "text/plain": [
       "   Rank                    Title                       Genre  \\\n",
       "0     1  Guardians of the Galaxy     Action,Adventure,Sci-Fi   \n",
       "1     2               Prometheus    Adventure,Mystery,Sci-Fi   \n",
       "2     3                    Split             Horror,Thriller   \n",
       "3     4                     Sing     Animation,Comedy,Family   \n",
       "4     5            Suicide Squad    Action,Adventure,Fantasy   \n",
       "5     6           The Great Wall    Action,Adventure,Fantasy   \n",
       "6     7               La La Land          Comedy,Drama,Music   \n",
       "7     8                 Mindhorn                      Comedy   \n",
       "8     9       The Lost City of Z  Action,Adventure,Biography   \n",
       "9    10               Passengers     Adventure,Drama,Romance   \n",
       "\n",
       "                                         Description              Director  \\\n",
       "0  A group of intergalactic criminals are forced ...            James Gunn   \n",
       "1  Following clues to the origin of mankind, a te...          Ridley Scott   \n",
       "2  Three girls are kidnapped by a man with a diag...    M. Night Shyamalan   \n",
       "3  In a city of humanoid animals, a hustling thea...  Christophe Lourdelet   \n",
       "4  A secret government agency recruits some of th...            David Ayer   \n",
       "5  European mercenaries searching for black powde...           Yimou Zhang   \n",
       "6  A jazz pianist falls for an aspiring actress i...       Damien Chazelle   \n",
       "7  A has-been actor best known for playing the ti...            Sean Foley   \n",
       "8  A true-life drama, centering on British explor...            James Gray   \n",
       "9  A spacecraft traveling to a distant colony pla...         Morten Tyldum   \n",
       "\n",
       "                                              Actors  Year  Runtime (Minutes)  \\\n",
       "0  Chris Pratt, Vin Diesel, Bradley Cooper, Zoe S...  2014                121   \n",
       "1  Noomi Rapace, Logan Marshall-Green, Michael Fa...  2012                124   \n",
       "2  James McAvoy, Anya Taylor-Joy, Haley Lu Richar...  2016                117   \n",
       "3  Matthew McConaughey,Reese Witherspoon, Seth Ma...  2016                108   \n",
       "4  Will Smith, Jared Leto, Margot Robbie, Viola D...  2016                123   \n",
       "5      Matt Damon, Tian Jing, Willem Dafoe, Andy Lau  2016                103   \n",
       "6  Ryan Gosling, Emma Stone, Rosemarie DeWitt, J....  2016                128   \n",
       "7  Essie Davis, Andrea Riseborough, Julian Barrat...  2016                 89   \n",
       "8  Charlie Hunnam, Robert Pattinson, Sienna Mille...  2016                141   \n",
       "9  Jennifer Lawrence, Chris Pratt, Michael Sheen,...  2016                116   \n",
       "\n",
       "   Rating   Votes  Revenue (Millions)  Metascore  \n",
       "0     8.1  757074              333.13       76.0  \n",
       "1     7.0  485820              126.46       65.0  \n",
       "2     7.3  157606              138.12       62.0  \n",
       "3     7.2   60545              270.32       59.0  \n",
       "4     6.2  393727              325.02       40.0  \n",
       "5     6.1   56036               45.13       42.0  \n",
       "6     8.3  258682              151.06       93.0  \n",
       "7     6.4    2490                 NaN       71.0  \n",
       "8     7.1    7188                8.01       78.0  \n",
       "9     7.0  192177              100.01       41.0  "
      ]
     },
     "execution_count": 10,
     "metadata": {},
     "output_type": "execute_result"
    }
   ],
   "source": [
    "data.head(10)"
   ]
  },
  {
   "cell_type": "markdown",
   "id": "a757dcca",
   "metadata": {},
   "source": [
    "#### 2. Check Last 10 rows of dataset"
   ]
  },
  {
   "cell_type": "code",
   "execution_count": 11,
   "id": "a14dc898",
   "metadata": {},
   "outputs": [
    {
     "data": {
      "text/html": [
       "<div>\n",
       "<style scoped>\n",
       "    .dataframe tbody tr th:only-of-type {\n",
       "        vertical-align: middle;\n",
       "    }\n",
       "\n",
       "    .dataframe tbody tr th {\n",
       "        vertical-align: top;\n",
       "    }\n",
       "\n",
       "    .dataframe thead th {\n",
       "        text-align: right;\n",
       "    }\n",
       "</style>\n",
       "<table border=\"1\" class=\"dataframe\">\n",
       "  <thead>\n",
       "    <tr style=\"text-align: right;\">\n",
       "      <th></th>\n",
       "      <th>Rank</th>\n",
       "      <th>Title</th>\n",
       "      <th>Genre</th>\n",
       "      <th>Description</th>\n",
       "      <th>Director</th>\n",
       "      <th>Actors</th>\n",
       "      <th>Year</th>\n",
       "      <th>Runtime (Minutes)</th>\n",
       "      <th>Rating</th>\n",
       "      <th>Votes</th>\n",
       "      <th>Revenue (Millions)</th>\n",
       "      <th>Metascore</th>\n",
       "    </tr>\n",
       "  </thead>\n",
       "  <tbody>\n",
       "    <tr>\n",
       "      <th>990</th>\n",
       "      <td>991</td>\n",
       "      <td>Underworld: Rise of the Lycans</td>\n",
       "      <td>Action,Adventure,Fantasy</td>\n",
       "      <td>An origins story centered on the centuries-old...</td>\n",
       "      <td>Patrick Tatopoulos</td>\n",
       "      <td>Rhona Mitra, Michael Sheen, Bill Nighy, Steven...</td>\n",
       "      <td>2009</td>\n",
       "      <td>92</td>\n",
       "      <td>6.6</td>\n",
       "      <td>129708</td>\n",
       "      <td>45.80</td>\n",
       "      <td>44.0</td>\n",
       "    </tr>\n",
       "    <tr>\n",
       "      <th>991</th>\n",
       "      <td>992</td>\n",
       "      <td>Taare Zameen Par</td>\n",
       "      <td>Drama,Family,Music</td>\n",
       "      <td>An eight-year-old boy is thought to be a lazy ...</td>\n",
       "      <td>Aamir Khan</td>\n",
       "      <td>Darsheel Safary, Aamir Khan, Tanay Chheda, Sac...</td>\n",
       "      <td>2007</td>\n",
       "      <td>165</td>\n",
       "      <td>8.5</td>\n",
       "      <td>102697</td>\n",
       "      <td>1.20</td>\n",
       "      <td>42.0</td>\n",
       "    </tr>\n",
       "    <tr>\n",
       "      <th>992</th>\n",
       "      <td>993</td>\n",
       "      <td>Take Me Home Tonight</td>\n",
       "      <td>Comedy,Drama,Romance</td>\n",
       "      <td>Four years after graduation, an awkward high s...</td>\n",
       "      <td>Michael Dowse</td>\n",
       "      <td>Topher Grace, Anna Faris, Dan Fogler, Teresa P...</td>\n",
       "      <td>2011</td>\n",
       "      <td>97</td>\n",
       "      <td>6.3</td>\n",
       "      <td>45419</td>\n",
       "      <td>6.92</td>\n",
       "      <td>NaN</td>\n",
       "    </tr>\n",
       "    <tr>\n",
       "      <th>993</th>\n",
       "      <td>994</td>\n",
       "      <td>Resident Evil: Afterlife</td>\n",
       "      <td>Action,Adventure,Horror</td>\n",
       "      <td>While still out to destroy the evil Umbrella C...</td>\n",
       "      <td>Paul W.S. Anderson</td>\n",
       "      <td>Milla Jovovich, Ali Larter, Wentworth Miller,K...</td>\n",
       "      <td>2010</td>\n",
       "      <td>97</td>\n",
       "      <td>5.9</td>\n",
       "      <td>140900</td>\n",
       "      <td>60.13</td>\n",
       "      <td>37.0</td>\n",
       "    </tr>\n",
       "    <tr>\n",
       "      <th>994</th>\n",
       "      <td>995</td>\n",
       "      <td>Project X</td>\n",
       "      <td>Comedy</td>\n",
       "      <td>3 high school seniors throw a birthday party t...</td>\n",
       "      <td>Nima Nourizadeh</td>\n",
       "      <td>Thomas Mann, Oliver Cooper, Jonathan Daniel Br...</td>\n",
       "      <td>2012</td>\n",
       "      <td>88</td>\n",
       "      <td>6.7</td>\n",
       "      <td>164088</td>\n",
       "      <td>54.72</td>\n",
       "      <td>48.0</td>\n",
       "    </tr>\n",
       "    <tr>\n",
       "      <th>995</th>\n",
       "      <td>996</td>\n",
       "      <td>Secret in Their Eyes</td>\n",
       "      <td>Crime,Drama,Mystery</td>\n",
       "      <td>A tight-knit team of rising investigators, alo...</td>\n",
       "      <td>Billy Ray</td>\n",
       "      <td>Chiwetel Ejiofor, Nicole Kidman, Julia Roberts...</td>\n",
       "      <td>2015</td>\n",
       "      <td>111</td>\n",
       "      <td>6.2</td>\n",
       "      <td>27585</td>\n",
       "      <td>NaN</td>\n",
       "      <td>45.0</td>\n",
       "    </tr>\n",
       "    <tr>\n",
       "      <th>996</th>\n",
       "      <td>997</td>\n",
       "      <td>Hostel: Part II</td>\n",
       "      <td>Horror</td>\n",
       "      <td>Three American college students studying abroa...</td>\n",
       "      <td>Eli Roth</td>\n",
       "      <td>Lauren German, Heather Matarazzo, Bijou Philli...</td>\n",
       "      <td>2007</td>\n",
       "      <td>94</td>\n",
       "      <td>5.5</td>\n",
       "      <td>73152</td>\n",
       "      <td>17.54</td>\n",
       "      <td>46.0</td>\n",
       "    </tr>\n",
       "    <tr>\n",
       "      <th>997</th>\n",
       "      <td>998</td>\n",
       "      <td>Step Up 2: The Streets</td>\n",
       "      <td>Drama,Music,Romance</td>\n",
       "      <td>Romantic sparks occur between two dance studen...</td>\n",
       "      <td>Jon M. Chu</td>\n",
       "      <td>Robert Hoffman, Briana Evigan, Cassie Ventura,...</td>\n",
       "      <td>2008</td>\n",
       "      <td>98</td>\n",
       "      <td>6.2</td>\n",
       "      <td>70699</td>\n",
       "      <td>58.01</td>\n",
       "      <td>50.0</td>\n",
       "    </tr>\n",
       "    <tr>\n",
       "      <th>998</th>\n",
       "      <td>999</td>\n",
       "      <td>Search Party</td>\n",
       "      <td>Adventure,Comedy</td>\n",
       "      <td>A pair of friends embark on a mission to reuni...</td>\n",
       "      <td>Scot Armstrong</td>\n",
       "      <td>Adam Pally, T.J. Miller, Thomas Middleditch,Sh...</td>\n",
       "      <td>2014</td>\n",
       "      <td>93</td>\n",
       "      <td>5.6</td>\n",
       "      <td>4881</td>\n",
       "      <td>NaN</td>\n",
       "      <td>22.0</td>\n",
       "    </tr>\n",
       "    <tr>\n",
       "      <th>999</th>\n",
       "      <td>1000</td>\n",
       "      <td>Nine Lives</td>\n",
       "      <td>Comedy,Family,Fantasy</td>\n",
       "      <td>A stuffy businessman finds himself trapped ins...</td>\n",
       "      <td>Barry Sonnenfeld</td>\n",
       "      <td>Kevin Spacey, Jennifer Garner, Robbie Amell,Ch...</td>\n",
       "      <td>2016</td>\n",
       "      <td>87</td>\n",
       "      <td>5.3</td>\n",
       "      <td>12435</td>\n",
       "      <td>19.64</td>\n",
       "      <td>11.0</td>\n",
       "    </tr>\n",
       "  </tbody>\n",
       "</table>\n",
       "</div>"
      ],
      "text/plain": [
       "     Rank                           Title                     Genre  \\\n",
       "990   991  Underworld: Rise of the Lycans  Action,Adventure,Fantasy   \n",
       "991   992                Taare Zameen Par        Drama,Family,Music   \n",
       "992   993            Take Me Home Tonight      Comedy,Drama,Romance   \n",
       "993   994        Resident Evil: Afterlife   Action,Adventure,Horror   \n",
       "994   995                       Project X                    Comedy   \n",
       "995   996            Secret in Their Eyes       Crime,Drama,Mystery   \n",
       "996   997                 Hostel: Part II                    Horror   \n",
       "997   998          Step Up 2: The Streets       Drama,Music,Romance   \n",
       "998   999                    Search Party          Adventure,Comedy   \n",
       "999  1000                      Nine Lives     Comedy,Family,Fantasy   \n",
       "\n",
       "                                           Description            Director  \\\n",
       "990  An origins story centered on the centuries-old...  Patrick Tatopoulos   \n",
       "991  An eight-year-old boy is thought to be a lazy ...          Aamir Khan   \n",
       "992  Four years after graduation, an awkward high s...       Michael Dowse   \n",
       "993  While still out to destroy the evil Umbrella C...  Paul W.S. Anderson   \n",
       "994  3 high school seniors throw a birthday party t...     Nima Nourizadeh   \n",
       "995  A tight-knit team of rising investigators, alo...           Billy Ray   \n",
       "996  Three American college students studying abroa...            Eli Roth   \n",
       "997  Romantic sparks occur between two dance studen...          Jon M. Chu   \n",
       "998  A pair of friends embark on a mission to reuni...      Scot Armstrong   \n",
       "999  A stuffy businessman finds himself trapped ins...    Barry Sonnenfeld   \n",
       "\n",
       "                                                Actors  Year  \\\n",
       "990  Rhona Mitra, Michael Sheen, Bill Nighy, Steven...  2009   \n",
       "991  Darsheel Safary, Aamir Khan, Tanay Chheda, Sac...  2007   \n",
       "992  Topher Grace, Anna Faris, Dan Fogler, Teresa P...  2011   \n",
       "993  Milla Jovovich, Ali Larter, Wentworth Miller,K...  2010   \n",
       "994  Thomas Mann, Oliver Cooper, Jonathan Daniel Br...  2012   \n",
       "995  Chiwetel Ejiofor, Nicole Kidman, Julia Roberts...  2015   \n",
       "996  Lauren German, Heather Matarazzo, Bijou Philli...  2007   \n",
       "997  Robert Hoffman, Briana Evigan, Cassie Ventura,...  2008   \n",
       "998  Adam Pally, T.J. Miller, Thomas Middleditch,Sh...  2014   \n",
       "999  Kevin Spacey, Jennifer Garner, Robbie Amell,Ch...  2016   \n",
       "\n",
       "     Runtime (Minutes)  Rating   Votes  Revenue (Millions)  Metascore  \n",
       "990                 92     6.6  129708               45.80       44.0  \n",
       "991                165     8.5  102697                1.20       42.0  \n",
       "992                 97     6.3   45419                6.92        NaN  \n",
       "993                 97     5.9  140900               60.13       37.0  \n",
       "994                 88     6.7  164088               54.72       48.0  \n",
       "995                111     6.2   27585                 NaN       45.0  \n",
       "996                 94     5.5   73152               17.54       46.0  \n",
       "997                 98     6.2   70699               58.01       50.0  \n",
       "998                 93     5.6    4881                 NaN       22.0  \n",
       "999                 87     5.3   12435               19.64       11.0  "
      ]
     },
     "execution_count": 11,
     "metadata": {},
     "output_type": "execute_result"
    }
   ],
   "source": [
    "data.tail(10)"
   ]
  },
  {
   "cell_type": "markdown",
   "id": "847fe3f8",
   "metadata": {},
   "source": [
    "#### 3. Find Shape of dataset (no. of rows & no. of columns)"
   ]
  },
  {
   "cell_type": "code",
   "execution_count": 14,
   "id": "c3271b5f",
   "metadata": {},
   "outputs": [
    {
     "data": {
      "text/plain": [
       "(1000, 12)"
      ]
     },
     "execution_count": 14,
     "metadata": {},
     "output_type": "execute_result"
    }
   ],
   "source": [
    "data.shape"
   ]
  },
  {
   "cell_type": "code",
   "execution_count": 16,
   "id": "6b23b426",
   "metadata": {},
   "outputs": [
    {
     "name": "stdout",
     "output_type": "stream",
     "text": [
      "No. of Rows 1000\n",
      "No. of Columns 12\n"
     ]
    }
   ],
   "source": [
    "print(\"No. of Rows\", data.shape[0])\n",
    "print(\"No. of Columns\", data.shape[1])"
   ]
  },
  {
   "cell_type": "markdown",
   "id": "86ba12f5",
   "metadata": {},
   "source": [
    "#### 4. Get info about dataset, for ex. total no. of rows & columns, datatypes of each column & memory requirement"
   ]
  },
  {
   "cell_type": "code",
   "execution_count": 17,
   "id": "073e7a67",
   "metadata": {},
   "outputs": [
    {
     "name": "stdout",
     "output_type": "stream",
     "text": [
      "<class 'pandas.core.frame.DataFrame'>\n",
      "RangeIndex: 1000 entries, 0 to 999\n",
      "Data columns (total 12 columns):\n",
      " #   Column              Non-Null Count  Dtype  \n",
      "---  ------              --------------  -----  \n",
      " 0   Rank                1000 non-null   int64  \n",
      " 1   Title               1000 non-null   object \n",
      " 2   Genre               1000 non-null   object \n",
      " 3   Description         1000 non-null   object \n",
      " 4   Director            1000 non-null   object \n",
      " 5   Actors              1000 non-null   object \n",
      " 6   Year                1000 non-null   int64  \n",
      " 7   Runtime (Minutes)   1000 non-null   int64  \n",
      " 8   Rating              1000 non-null   float64\n",
      " 9   Votes               1000 non-null   int64  \n",
      " 10  Revenue (Millions)  872 non-null    float64\n",
      " 11  Metascore           936 non-null    float64\n",
      "dtypes: float64(3), int64(4), object(5)\n",
      "memory usage: 93.9+ KB\n"
     ]
    }
   ],
   "source": [
    "data.info()"
   ]
  },
  {
   "cell_type": "markdown",
   "id": "2311ed92",
   "metadata": {},
   "source": [
    "#### 5. Check Missing values in dataset"
   ]
  },
  {
   "cell_type": "code",
   "execution_count": 20,
   "id": "2a45a360",
   "metadata": {},
   "outputs": [
    {
     "data": {
      "text/plain": [
       "Rank                    0\n",
       "Title                   0\n",
       "Genre                   0\n",
       "Description             0\n",
       "Director                0\n",
       "Actors                  0\n",
       "Year                    0\n",
       "Runtime (Minutes)       0\n",
       "Rating                  0\n",
       "Votes                   0\n",
       "Revenue (Millions)    128\n",
       "Metascore              64\n",
       "dtype: int64"
      ]
     },
     "execution_count": 20,
     "metadata": {},
     "output_type": "execute_result"
    }
   ],
   "source": [
    "data.isnull().sum()"
   ]
  },
  {
   "cell_type": "code",
   "execution_count": 25,
   "id": "611492b8",
   "metadata": {},
   "outputs": [
    {
     "name": "stdout",
     "output_type": "stream",
     "text": [
      "Yes we having missing data, 128 missing entries for Revenue and 64 missing entries for Metascore\n"
     ]
    }
   ],
   "source": [
    "print(\"Yes we having missing data, 128 missing entries for Revenue and 64 missing entries for Metascore\")"
   ]
  },
  {
   "cell_type": "markdown",
   "id": "15ee3bb4",
   "metadata": {},
   "source": [
    "#### 6. Drop all Missing values"
   ]
  },
  {
   "cell_type": "code",
   "execution_count": 28,
   "id": "b39fa717",
   "metadata": {},
   "outputs": [],
   "source": [
    "data = data.dropna()"
   ]
  },
  {
   "cell_type": "code",
   "execution_count": 29,
   "id": "b001fd68",
   "metadata": {},
   "outputs": [
    {
     "data": {
      "text/plain": [
       "Rank                  0\n",
       "Title                 0\n",
       "Genre                 0\n",
       "Description           0\n",
       "Director              0\n",
       "Actors                0\n",
       "Year                  0\n",
       "Runtime (Minutes)     0\n",
       "Rating                0\n",
       "Votes                 0\n",
       "Revenue (Millions)    0\n",
       "Metascore             0\n",
       "dtype: int64"
      ]
     },
     "execution_count": 29,
     "metadata": {},
     "output_type": "execute_result"
    }
   ],
   "source": [
    "data.isnull().sum()"
   ]
  },
  {
   "cell_type": "markdown",
   "id": "f3b336d1",
   "metadata": {},
   "source": [
    "#### 7. Check for duplicate data "
   ]
  },
  {
   "cell_type": "code",
   "execution_count": 31,
   "id": "4540e8db",
   "metadata": {},
   "outputs": [
    {
     "data": {
      "text/plain": [
       "False"
      ]
     },
     "execution_count": 31,
     "metadata": {},
     "output_type": "execute_result"
    }
   ],
   "source": [
    "data.duplicated().any()"
   ]
  },
  {
   "cell_type": "code",
   "execution_count": 33,
   "id": "ff9a225e",
   "metadata": {},
   "outputs": [
    {
     "name": "stdout",
     "output_type": "stream",
     "text": [
      "There is no duplicated data\n"
     ]
    }
   ],
   "source": [
    "print(\"There is no duplicated data\")"
   ]
  },
  {
   "cell_type": "markdown",
   "id": "47deb0b1",
   "metadata": {},
   "source": [
    "#### 8. Get Overall stats about dataframe"
   ]
  },
  {
   "cell_type": "code",
   "execution_count": 34,
   "id": "6562756d",
   "metadata": {},
   "outputs": [
    {
     "data": {
      "text/html": [
       "<div>\n",
       "<style scoped>\n",
       "    .dataframe tbody tr th:only-of-type {\n",
       "        vertical-align: middle;\n",
       "    }\n",
       "\n",
       "    .dataframe tbody tr th {\n",
       "        vertical-align: top;\n",
       "    }\n",
       "\n",
       "    .dataframe thead th {\n",
       "        text-align: right;\n",
       "    }\n",
       "</style>\n",
       "<table border=\"1\" class=\"dataframe\">\n",
       "  <thead>\n",
       "    <tr style=\"text-align: right;\">\n",
       "      <th></th>\n",
       "      <th>Rank</th>\n",
       "      <th>Year</th>\n",
       "      <th>Runtime (Minutes)</th>\n",
       "      <th>Rating</th>\n",
       "      <th>Votes</th>\n",
       "      <th>Revenue (Millions)</th>\n",
       "      <th>Metascore</th>\n",
       "    </tr>\n",
       "  </thead>\n",
       "  <tbody>\n",
       "    <tr>\n",
       "      <th>count</th>\n",
       "      <td>838.000000</td>\n",
       "      <td>838.00000</td>\n",
       "      <td>838.000000</td>\n",
       "      <td>838.000000</td>\n",
       "      <td>8.380000e+02</td>\n",
       "      <td>838.000000</td>\n",
       "      <td>838.000000</td>\n",
       "    </tr>\n",
       "    <tr>\n",
       "      <th>mean</th>\n",
       "      <td>485.247017</td>\n",
       "      <td>2012.50716</td>\n",
       "      <td>114.638425</td>\n",
       "      <td>6.814320</td>\n",
       "      <td>1.932303e+05</td>\n",
       "      <td>84.564558</td>\n",
       "      <td>59.575179</td>\n",
       "    </tr>\n",
       "    <tr>\n",
       "      <th>std</th>\n",
       "      <td>286.572065</td>\n",
       "      <td>3.17236</td>\n",
       "      <td>18.470922</td>\n",
       "      <td>0.877754</td>\n",
       "      <td>1.930990e+05</td>\n",
       "      <td>104.520227</td>\n",
       "      <td>16.952416</td>\n",
       "    </tr>\n",
       "    <tr>\n",
       "      <th>min</th>\n",
       "      <td>1.000000</td>\n",
       "      <td>2006.00000</td>\n",
       "      <td>66.000000</td>\n",
       "      <td>1.900000</td>\n",
       "      <td>1.780000e+02</td>\n",
       "      <td>0.000000</td>\n",
       "      <td>11.000000</td>\n",
       "    </tr>\n",
       "    <tr>\n",
       "      <th>25%</th>\n",
       "      <td>238.250000</td>\n",
       "      <td>2010.00000</td>\n",
       "      <td>101.000000</td>\n",
       "      <td>6.300000</td>\n",
       "      <td>6.127650e+04</td>\n",
       "      <td>13.967500</td>\n",
       "      <td>47.000000</td>\n",
       "    </tr>\n",
       "    <tr>\n",
       "      <th>50%</th>\n",
       "      <td>475.500000</td>\n",
       "      <td>2013.00000</td>\n",
       "      <td>112.000000</td>\n",
       "      <td>6.900000</td>\n",
       "      <td>1.368795e+05</td>\n",
       "      <td>48.150000</td>\n",
       "      <td>60.000000</td>\n",
       "    </tr>\n",
       "    <tr>\n",
       "      <th>75%</th>\n",
       "      <td>729.750000</td>\n",
       "      <td>2015.00000</td>\n",
       "      <td>124.000000</td>\n",
       "      <td>7.500000</td>\n",
       "      <td>2.710830e+05</td>\n",
       "      <td>116.800000</td>\n",
       "      <td>72.000000</td>\n",
       "    </tr>\n",
       "    <tr>\n",
       "      <th>max</th>\n",
       "      <td>1000.000000</td>\n",
       "      <td>2016.00000</td>\n",
       "      <td>187.000000</td>\n",
       "      <td>9.000000</td>\n",
       "      <td>1.791916e+06</td>\n",
       "      <td>936.630000</td>\n",
       "      <td>100.000000</td>\n",
       "    </tr>\n",
       "  </tbody>\n",
       "</table>\n",
       "</div>"
      ],
      "text/plain": [
       "              Rank        Year  Runtime (Minutes)      Rating         Votes  \\\n",
       "count   838.000000   838.00000         838.000000  838.000000  8.380000e+02   \n",
       "mean    485.247017  2012.50716         114.638425    6.814320  1.932303e+05   \n",
       "std     286.572065     3.17236          18.470922    0.877754  1.930990e+05   \n",
       "min       1.000000  2006.00000          66.000000    1.900000  1.780000e+02   \n",
       "25%     238.250000  2010.00000         101.000000    6.300000  6.127650e+04   \n",
       "50%     475.500000  2013.00000         112.000000    6.900000  1.368795e+05   \n",
       "75%     729.750000  2015.00000         124.000000    7.500000  2.710830e+05   \n",
       "max    1000.000000  2016.00000         187.000000    9.000000  1.791916e+06   \n",
       "\n",
       "       Revenue (Millions)   Metascore  \n",
       "count          838.000000  838.000000  \n",
       "mean            84.564558   59.575179  \n",
       "std            104.520227   16.952416  \n",
       "min              0.000000   11.000000  \n",
       "25%             13.967500   47.000000  \n",
       "50%             48.150000   60.000000  \n",
       "75%            116.800000   72.000000  \n",
       "max            936.630000  100.000000  "
      ]
     },
     "execution_count": 34,
     "metadata": {},
     "output_type": "execute_result"
    }
   ],
   "source": [
    "data.describe()"
   ]
  },
  {
   "cell_type": "markdown",
   "id": "34f51da7",
   "metadata": {},
   "source": [
    "#### 9. Display Titles of movies having runtime >= 180 mins "
   ]
  },
  {
   "cell_type": "code",
   "execution_count": 39,
   "id": "0e6c4759",
   "metadata": {},
   "outputs": [
    {
     "data": {
      "text/plain": [
       "82     The Wolf of Wall Street\n",
       "88           The Hateful Eight\n",
       "311             La vie d'Adèle\n",
       "Name: Title, dtype: object"
      ]
     },
     "execution_count": 39,
     "metadata": {},
     "output_type": "execute_result"
    }
   ],
   "source": [
    "data[data['Runtime (Minutes)'] >= 180]['Title']"
   ]
  },
  {
   "cell_type": "code",
   "execution_count": 40,
   "id": "c696ee02",
   "metadata": {},
   "outputs": [
    {
     "name": "stdout",
     "output_type": "stream",
     "text": [
      "There are 3 movies with runtime >= 180 mins, they are The wolf of wall street, The hateful eight and La vie d'Adele\n"
     ]
    }
   ],
   "source": [
    "print(\"There are 3 movies with runtime >= 180 mins, they are The wolf of wall street, The hateful eight and La vie d'Adele\")"
   ]
  },
  {
   "cell_type": "markdown",
   "id": "4462d42e",
   "metadata": {},
   "source": [
    "#### 10. In which Year was there the highest average voting?"
   ]
  },
  {
   "cell_type": "code",
   "execution_count": 77,
   "id": "e982c7fe",
   "metadata": {},
   "outputs": [
    {
     "data": {
      "text/plain": [
       "Year\n",
       "2012    290861.483871\n",
       "2006    277232.219512\n",
       "2009    267180.577778\n",
       "2008    266580.145833\n",
       "2007    266530.704545\n",
       "2010    261082.929825\n",
       "2011    259254.736842\n",
       "2013    225531.892857\n",
       "2014    211926.881720\n",
       "2015    129512.651376\n",
       "2016     68437.823232\n",
       "Name: Votes, dtype: float64"
      ]
     },
     "execution_count": 77,
     "metadata": {},
     "output_type": "execute_result"
    }
   ],
   "source": [
    "data.groupby('Year')['Votes'].mean().sort_values(ascending = False)"
   ]
  },
  {
   "cell_type": "code",
   "execution_count": 78,
   "id": "9a1a811f",
   "metadata": {},
   "outputs": [
    {
     "name": "stdout",
     "output_type": "stream",
     "text": [
      "The highest average voting was in the year 2012\n"
     ]
    }
   ],
   "source": [
    "print(\"The highest average voting was in the year 2012\")"
   ]
  },
  {
   "cell_type": "code",
   "execution_count": 79,
   "id": "3e169465",
   "metadata": {},
   "outputs": [],
   "source": [
    "# seaborn automatically averages y axis so to display results we use that"
   ]
  },
  {
   "cell_type": "code",
   "execution_count": 81,
   "id": "aef1919f",
   "metadata": {},
   "outputs": [
    {
     "data": {
      "text/plain": [
       "Text(0.5, 1.0, 'Avg. votes per year')"
      ]
     },
     "execution_count": 81,
     "metadata": {},
     "output_type": "execute_result"
    },
    {
     "data": {
      "image/png": "[encoded data removed]",
      "text/plain": [
       "<Figure size 432x288 with 1 Axes>"
      ]
     },
     "metadata": {
      "needs_background": "light"
     },
     "output_type": "display_data"
    }
   ],
   "source": [
    "sns.barplot(x = 'Year', y = 'Votes', data = data)\n",
    "plt.title(\"Avg. votes per year\")"
   ]
  },
  {
   "cell_type": "markdown",
   "id": "756f7f61",
   "metadata": {},
   "source": [
    "#### 11. In which Year was the highest average revenue?"
   ]
  },
  {
   "cell_type": "code",
   "execution_count": 83,
   "id": "7c60a6ce",
   "metadata": {},
   "outputs": [
    {
     "data": {
      "text/plain": [
       "Year\n",
       "2009    115.742000\n",
       "2012    110.103065\n",
       "2010    105.081579\n",
       "2008     97.525417\n",
       "2011     93.703333\n",
       "2007     93.074091\n",
       "2013     88.084643\n",
       "2006     87.255610\n",
       "2014     85.433656\n",
       "2015     80.725596\n",
       "2016     55.566111\n",
       "Name: Revenue (Millions), dtype: float64"
      ]
     },
     "execution_count": 83,
     "metadata": {},
     "output_type": "execute_result"
    }
   ],
   "source": [
    "data.groupby('Year')['Revenue (Millions)'].mean().sort_values(ascending = False)"
   ]
  },
  {
   "cell_type": "code",
   "execution_count": 85,
   "id": "20c863a8",
   "metadata": {},
   "outputs": [
    {
     "name": "stdout",
     "output_type": "stream",
     "text": [
      "The highest average revenue was in the year 2009\n"
     ]
    }
   ],
   "source": [
    "print(\"The highest average revenue was in the year 2009\")"
   ]
  },
  {
   "cell_type": "markdown",
   "id": "26eb7a9e",
   "metadata": {},
   "source": [
    "#### 12. Find the Average rating for each director"
   ]
  },
  {
   "cell_type": "code",
   "execution_count": 89,
   "id": "9356a102",
   "metadata": {},
   "outputs": [
    {
     "data": {
      "text/plain": [
       "Director\n",
       "Aamir Khan             8.50\n",
       "Abdellatif Kechiche    7.80\n",
       "Adam McKay             7.00\n",
       "Adam Shankman          6.30\n",
       "Adam Wingard           5.90\n",
       "                       ... \n",
       "Xavier Dolan           8.10\n",
       "Yimou Zhang            6.10\n",
       "Yorgos Lanthimos       7.20\n",
       "Zack Snyder            7.04\n",
       "Zackary Adler          5.10\n",
       "Name: Rating, Length: 524, dtype: float64"
      ]
     },
     "execution_count": 89,
     "metadata": {},
     "output_type": "execute_result"
    }
   ],
   "source": [
    "data.groupby('Director')['Rating'].mean()"
   ]
  },
  {
   "cell_type": "markdown",
   "id": "db4dba1e",
   "metadata": {},
   "source": [
    "#### 13. Display Top 10 Lengthy Movie titles & runtimes"
   ]
  },
  {
   "cell_type": "code",
   "execution_count": 119,
   "id": "cd754376",
   "metadata": {},
   "outputs": [],
   "source": [
    "top10 = data[['Title', 'Runtime (Minutes)']].sort_values('Runtime (Minutes)', ascending = False).head(10)"
   ]
  },
  {
   "cell_type": "code",
   "execution_count": 121,
   "id": "22425d72",
   "metadata": {},
   "outputs": [
    {
     "data": {
      "text/plain": [
       "<AxesSubplot:xlabel='Runtime (Minutes)', ylabel='Title'>"
      ]
     },
     "execution_count": 121,
     "metadata": {},
     "output_type": "execute_result"
    },
    {
     "data": {
      "image/png": "[encoded data removed]",
      "text/plain": [
       "<Figure size 432x288 with 1 Axes>"
      ]
     },
     "metadata": {
      "needs_background": "light"
     },
     "output_type": "display_data"
    }
   ],
   "source": [
    "sns.barplot(x = 'Runtime (Minutes)', y = 'Title', data = top10)"
   ]
  },
  {
   "cell_type": "markdown",
   "id": "b324d99c",
   "metadata": {},
   "source": [
    "#### 14. Display number of movies per year "
   ]
  },
  {
   "cell_type": "code",
   "execution_count": 9,
   "id": "95e8aa85",
   "metadata": {},
   "outputs": [
    {
     "data": {
      "text/plain": [
       "2016    297\n",
       "2015    127\n",
       "2014     98\n",
       "2013     91\n",
       "2012     64\n",
       "2011     63\n",
       "2010     60\n",
       "2007     53\n",
       "2008     52\n",
       "2009     51\n",
       "2006     44\n",
       "Name: Year, dtype: int64"
      ]
     },
     "execution_count": 9,
     "metadata": {},
     "output_type": "execute_result"
    }
   ],
   "source": [
    "data['Year'].value_counts()"
   ]
  },
  {
   "cell_type": "code",
   "execution_count": 10,
   "id": "dbf95a7b",
   "metadata": {},
   "outputs": [
    {
     "data": {
      "text/plain": [
       "<AxesSubplot:xlabel='Year', ylabel='count'>"
      ]
     },
     "execution_count": 10,
     "metadata": {},
     "output_type": "execute_result"
    },
    {
     "data": {
      "image/png": "[encoded data removed]",
      "text/plain": [
       "<Figure size 432x288 with 1 Axes>"
      ]
     },
     "metadata": {
      "needs_background": "light"
     },
     "output_type": "display_data"
    }
   ],
   "source": [
    "sns.countplot(x = 'Year', data = data)"
   ]
  },
  {
   "cell_type": "markdown",
   "id": "535eaee0",
   "metadata": {},
   "source": [
    "#### 15. Find most popular movie title (Highest Revenue)"
   ]
  },
  {
   "cell_type": "code",
   "execution_count": 11,
   "id": "f3d37353",
   "metadata": {},
   "outputs": [
    {
     "data": {
      "text/plain": [
       "936.63"
      ]
     },
     "execution_count": 11,
     "metadata": {},
     "output_type": "execute_result"
    }
   ],
   "source": [
    "data['Revenue (Millions)'].max()"
   ]
  },
  {
   "cell_type": "code",
   "execution_count": 16,
   "id": "cfa14643",
   "metadata": {},
   "outputs": [],
   "source": [
    "popular_movie = data[data['Revenue (Millions)'].max() == data['Revenue (Millions)']]"
   ]
  },
  {
   "cell_type": "code",
   "execution_count": 17,
   "id": "02a83edf",
   "metadata": {},
   "outputs": [
    {
     "data": {
      "text/plain": [
       "50    Star Wars: Episode VII - The Force Awakens\n",
       "Name: Title, dtype: object"
      ]
     },
     "execution_count": 17,
     "metadata": {},
     "output_type": "execute_result"
    }
   ],
   "source": [
    "popular_movie['Title']"
   ]
  },
  {
   "cell_type": "code",
   "execution_count": 18,
   "id": "7b5c07c2",
   "metadata": {},
   "outputs": [
    {
     "name": "stdout",
     "output_type": "stream",
     "text": [
      "The most popular movie title by revenue is Star Wars: Episode VII - The Force Awakens\n"
     ]
    }
   ],
   "source": [
    "print('The most popular movie title by revenue is Star Wars: Episode VII - The Force Awakens')"
   ]
  },
  {
   "cell_type": "markdown",
   "id": "714906dd",
   "metadata": {},
   "source": [
    "#### 16. Display top 10 highest rated movie titles and its directors"
   ]
  },
  {
   "cell_type": "code",
   "execution_count": 21,
   "id": "fefa0603",
   "metadata": {},
   "outputs": [
    {
     "data": {
      "text/html": [
       "<div>\n",
       "<style scoped>\n",
       "    .dataframe tbody tr th:only-of-type {\n",
       "        vertical-align: middle;\n",
       "    }\n",
       "\n",
       "    .dataframe tbody tr th {\n",
       "        vertical-align: top;\n",
       "    }\n",
       "\n",
       "    .dataframe thead th {\n",
       "        text-align: right;\n",
       "    }\n",
       "</style>\n",
       "<table border=\"1\" class=\"dataframe\">\n",
       "  <thead>\n",
       "    <tr style=\"text-align: right;\">\n",
       "      <th></th>\n",
       "      <th>Title</th>\n",
       "      <th>Director</th>\n",
       "      <th>Rating</th>\n",
       "    </tr>\n",
       "  </thead>\n",
       "  <tbody>\n",
       "    <tr>\n",
       "      <th>54</th>\n",
       "      <td>The Dark Knight</td>\n",
       "      <td>Christopher Nolan</td>\n",
       "      <td>9.0</td>\n",
       "    </tr>\n",
       "    <tr>\n",
       "      <th>80</th>\n",
       "      <td>Inception</td>\n",
       "      <td>Christopher Nolan</td>\n",
       "      <td>8.8</td>\n",
       "    </tr>\n",
       "    <tr>\n",
       "      <th>117</th>\n",
       "      <td>Dangal</td>\n",
       "      <td>Nitesh Tiwari</td>\n",
       "      <td>8.8</td>\n",
       "    </tr>\n",
       "    <tr>\n",
       "      <th>36</th>\n",
       "      <td>Interstellar</td>\n",
       "      <td>Christopher Nolan</td>\n",
       "      <td>8.6</td>\n",
       "    </tr>\n",
       "    <tr>\n",
       "      <th>96</th>\n",
       "      <td>Kimi no na wa</td>\n",
       "      <td>Makoto Shinkai</td>\n",
       "      <td>8.6</td>\n",
       "    </tr>\n",
       "    <tr>\n",
       "      <th>249</th>\n",
       "      <td>The Intouchables</td>\n",
       "      <td>Olivier Nakache</td>\n",
       "      <td>8.6</td>\n",
       "    </tr>\n",
       "    <tr>\n",
       "      <th>133</th>\n",
       "      <td>Whiplash</td>\n",
       "      <td>Damien Chazelle</td>\n",
       "      <td>8.5</td>\n",
       "    </tr>\n",
       "    <tr>\n",
       "      <th>64</th>\n",
       "      <td>The Prestige</td>\n",
       "      <td>Christopher Nolan</td>\n",
       "      <td>8.5</td>\n",
       "    </tr>\n",
       "    <tr>\n",
       "      <th>99</th>\n",
       "      <td>The Departed</td>\n",
       "      <td>Martin Scorsese</td>\n",
       "      <td>8.5</td>\n",
       "    </tr>\n",
       "    <tr>\n",
       "      <th>991</th>\n",
       "      <td>Taare Zameen Par</td>\n",
       "      <td>Aamir Khan</td>\n",
       "      <td>8.5</td>\n",
       "    </tr>\n",
       "  </tbody>\n",
       "</table>\n",
       "</div>"
      ],
      "text/plain": [
       "                Title           Director  Rating\n",
       "54    The Dark Knight  Christopher Nolan     9.0\n",
       "80          Inception  Christopher Nolan     8.8\n",
       "117            Dangal      Nitesh Tiwari     8.8\n",
       "36       Interstellar  Christopher Nolan     8.6\n",
       "96      Kimi no na wa     Makoto Shinkai     8.6\n",
       "249  The Intouchables    Olivier Nakache     8.6\n",
       "133          Whiplash    Damien Chazelle     8.5\n",
       "64       The Prestige  Christopher Nolan     8.5\n",
       "99       The Departed    Martin Scorsese     8.5\n",
       "991  Taare Zameen Par         Aamir Khan     8.5"
      ]
     },
     "execution_count": 21,
     "metadata": {},
     "output_type": "execute_result"
    }
   ],
   "source": [
    "data[['Title', 'Director', 'Rating']].sort_values('Rating', ascending = False).head(10)"
   ]
  },
  {
   "cell_type": "code",
   "execution_count": 26,
   "id": "e91b736a",
   "metadata": {},
   "outputs": [],
   "source": [
    "## another way to do this \n",
    "top10_movie_director = data.nlargest(10, 'Rating')[['Title', 'Rating', 'Director']].set_index('Title')"
   ]
  },
  {
   "cell_type": "code",
   "execution_count": 28,
   "id": "5d2fe3f9",
   "metadata": {},
   "outputs": [
    {
     "data": {
      "text/html": [
       "<div>\n",
       "<style scoped>\n",
       "    .dataframe tbody tr th:only-of-type {\n",
       "        vertical-align: middle;\n",
       "    }\n",
       "\n",
       "    .dataframe tbody tr th {\n",
       "        vertical-align: top;\n",
       "    }\n",
       "\n",
       "    .dataframe thead th {\n",
       "        text-align: right;\n",
       "    }\n",
       "</style>\n",
       "<table border=\"1\" class=\"dataframe\">\n",
       "  <thead>\n",
       "    <tr style=\"text-align: right;\">\n",
       "      <th></th>\n",
       "      <th>Rating</th>\n",
       "      <th>Director</th>\n",
       "    </tr>\n",
       "    <tr>\n",
       "      <th>Title</th>\n",
       "      <th></th>\n",
       "      <th></th>\n",
       "    </tr>\n",
       "  </thead>\n",
       "  <tbody>\n",
       "    <tr>\n",
       "      <th>The Dark Knight</th>\n",
       "      <td>9.0</td>\n",
       "      <td>Christopher Nolan</td>\n",
       "    </tr>\n",
       "    <tr>\n",
       "      <th>Inception</th>\n",
       "      <td>8.8</td>\n",
       "      <td>Christopher Nolan</td>\n",
       "    </tr>\n",
       "    <tr>\n",
       "      <th>Dangal</th>\n",
       "      <td>8.8</td>\n",
       "      <td>Nitesh Tiwari</td>\n",
       "    </tr>\n",
       "    <tr>\n",
       "      <th>Interstellar</th>\n",
       "      <td>8.6</td>\n",
       "      <td>Christopher Nolan</td>\n",
       "    </tr>\n",
       "    <tr>\n",
       "      <th>Kimi no na wa</th>\n",
       "      <td>8.6</td>\n",
       "      <td>Makoto Shinkai</td>\n",
       "    </tr>\n",
       "    <tr>\n",
       "      <th>The Intouchables</th>\n",
       "      <td>8.6</td>\n",
       "      <td>Olivier Nakache</td>\n",
       "    </tr>\n",
       "    <tr>\n",
       "      <th>The Prestige</th>\n",
       "      <td>8.5</td>\n",
       "      <td>Christopher Nolan</td>\n",
       "    </tr>\n",
       "    <tr>\n",
       "      <th>The Departed</th>\n",
       "      <td>8.5</td>\n",
       "      <td>Martin Scorsese</td>\n",
       "    </tr>\n",
       "    <tr>\n",
       "      <th>The Dark Knight Rises</th>\n",
       "      <td>8.5</td>\n",
       "      <td>Christopher Nolan</td>\n",
       "    </tr>\n",
       "    <tr>\n",
       "      <th>Whiplash</th>\n",
       "      <td>8.5</td>\n",
       "      <td>Damien Chazelle</td>\n",
       "    </tr>\n",
       "  </tbody>\n",
       "</table>\n",
       "</div>"
      ],
      "text/plain": [
       "                       Rating           Director\n",
       "Title                                           \n",
       "The Dark Knight           9.0  Christopher Nolan\n",
       "Inception                 8.8  Christopher Nolan\n",
       "Dangal                    8.8      Nitesh Tiwari\n",
       "Interstellar              8.6  Christopher Nolan\n",
       "Kimi no na wa             8.6     Makoto Shinkai\n",
       "The Intouchables          8.6    Olivier Nakache\n",
       "The Prestige              8.5  Christopher Nolan\n",
       "The Departed              8.5    Martin Scorsese\n",
       "The Dark Knight Rises     8.5  Christopher Nolan\n",
       "Whiplash                  8.5    Damien Chazelle"
      ]
     },
     "execution_count": 28,
     "metadata": {},
     "output_type": "execute_result"
    }
   ],
   "source": [
    "top10_movie_director"
   ]
  },
  {
   "cell_type": "code",
   "execution_count": 35,
   "id": "7e0cc462",
   "metadata": {},
   "outputs": [
    {
     "data": {
      "text/plain": [
       "<matplotlib.legend.Legend at 0x15208b9ed90>"
      ]
     },
     "execution_count": 35,
     "metadata": {},
     "output_type": "execute_result"
    },
    {
     "data": {
      "image/png": "[encoded data removed]",
      "text/plain": [
       "<Figure size 432x288 with 1 Axes>"
      ]
     },
     "metadata": {
      "needs_background": "light"
     },
     "output_type": "display_data"
    }
   ],
   "source": [
    "sns.barplot(x = 'Rating', y = top10_movie_director.index, data = top10_movie_director, hue = 'Director', dodge = False)\n",
    "plt.legend(bbox_to_anchor = (1.05, 1), loc = 2)"
   ]
  },
  {
   "cell_type": "markdown",
   "id": "42f1bcb2",
   "metadata": {},
   "source": [
    "#### 17. Display top 10 higest revenue movie titles "
   ]
  },
  {
   "cell_type": "code",
   "execution_count": 41,
   "id": "f4687d40",
   "metadata": {},
   "outputs": [],
   "source": [
    "top10_rev = data.nlargest(10, 'Revenue (Millions)')[['Title', 'Revenue (Millions)']].set_index('Title')"
   ]
  },
  {
   "cell_type": "code",
   "execution_count": 42,
   "id": "02c6038d",
   "metadata": {},
   "outputs": [
    {
     "data": {
      "text/plain": [
       "<AxesSubplot:xlabel='Revenue (Millions)', ylabel='Title'>"
      ]
     },
     "execution_count": 42,
     "metadata": {},
     "output_type": "execute_result"
    },
    {
     "data": {
      "image/png": "[encoded data removed]",
      "text/plain": [
       "<Figure size 432x288 with 1 Axes>"
      ]
     },
     "metadata": {
      "needs_background": "light"
     },
     "output_type": "display_data"
    }
   ],
   "source": [
    "sns.barplot(x = 'Revenue (Millions)', y = top10_rev.index, data = top10_rev)"
   ]
  },
  {
   "cell_type": "markdown",
   "id": "13696ecf",
   "metadata": {},
   "source": [
    "#### 18. Find average rating of movies per year"
   ]
  },
  {
   "cell_type": "code",
   "execution_count": 51,
   "id": "bcb9fa64",
   "metadata": {},
   "outputs": [],
   "source": [
    "movie_ratings = data.groupby('Year')['Rating'].mean()"
   ]
  },
  {
   "cell_type": "code",
   "execution_count": 52,
   "id": "7afb2cd8",
   "metadata": {},
   "outputs": [
    {
     "data": {
      "text/plain": [
       "Year\n",
       "2006    7.125000\n",
       "2007    7.133962\n",
       "2008    6.784615\n",
       "2009    6.960784\n",
       "2010    6.826667\n",
       "2011    6.838095\n",
       "2012    6.925000\n",
       "2013    6.812088\n",
       "2014    6.837755\n",
       "2015    6.602362\n",
       "2016    6.436700\n",
       "Name: Rating, dtype: float64"
      ]
     },
     "execution_count": 52,
     "metadata": {},
     "output_type": "execute_result"
    }
   ],
   "source": [
    "movie_ratings"
   ]
  },
  {
   "cell_type": "markdown",
   "id": "16829f88",
   "metadata": {},
   "source": [
    "#### 19. Does rating affect revenue?"
   ]
  },
  {
   "cell_type": "code",
   "execution_count": 53,
   "id": "249ffd3d",
   "metadata": {},
   "outputs": [
    {
     "data": {
      "text/plain": [
       "<AxesSubplot:xlabel='Rating', ylabel='Revenue (Millions)'>"
      ]
     },
     "execution_count": 53,
     "metadata": {},
     "output_type": "execute_result"
    },
    {
     "data": {
      "image/png": "[encoded data removed]",
      "text/plain": [
       "<Figure size 432x288 with 1 Axes>"
      ]
     },
     "metadata": {
      "needs_background": "light"
     },
     "output_type": "display_data"
    }
   ],
   "source": [
    "sns.scatterplot(x = 'Rating', y = 'Revenue (Millions)', data = data)"
   ]
  },
  {
   "cell_type": "code",
   "execution_count": 54,
   "id": "b74dc482",
   "metadata": {},
   "outputs": [
    {
     "name": "stdout",
     "output_type": "stream",
     "text": [
      "We can see that rating doesn't really have a correlation with Revenue\n"
     ]
    }
   ],
   "source": [
    "print(\"We can see that rating doesn't really have a correlation with Revenue\")"
   ]
  },
  {
   "cell_type": "markdown",
   "id": "50e29ece",
   "metadata": {},
   "source": [
    "#### 20. Classify movies based on ratings (Excellent, Good, Avg)"
   ]
  },
  {
   "cell_type": "code",
   "execution_count": 57,
   "id": "a0e20850",
   "metadata": {},
   "outputs": [],
   "source": [
    "def rating(rating):\n",
    "    if rating >=  8.0:\n",
    "        return 'Excellent'\n",
    "    elif  rating >= 7.0:\n",
    "        return 'Good'\n",
    "    else:\n",
    "        return 'Avg'"
   ]
  },
  {
   "cell_type": "code",
   "execution_count": 60,
   "id": "cd44e912",
   "metadata": {},
   "outputs": [],
   "source": [
    "data['rating_category'] = data['Rating'].apply(rating)"
   ]
  },
  {
   "cell_type": "code",
   "execution_count": 61,
   "id": "6a44a1c5",
   "metadata": {},
   "outputs": [
    {
     "data": {
      "text/html": [
       "<div>\n",
       "<style scoped>\n",
       "    .dataframe tbody tr th:only-of-type {\n",
       "        vertical-align: middle;\n",
       "    }\n",
       "\n",
       "    .dataframe tbody tr th {\n",
       "        vertical-align: top;\n",
       "    }\n",
       "\n",
       "    .dataframe thead th {\n",
       "        text-align: right;\n",
       "    }\n",
       "</style>\n",
       "<table border=\"1\" class=\"dataframe\">\n",
       "  <thead>\n",
       "    <tr style=\"text-align: right;\">\n",
       "      <th></th>\n",
       "      <th>Rank</th>\n",
       "      <th>Title</th>\n",
       "      <th>Genre</th>\n",
       "      <th>Description</th>\n",
       "      <th>Director</th>\n",
       "      <th>Actors</th>\n",
       "      <th>Year</th>\n",
       "      <th>Runtime (Minutes)</th>\n",
       "      <th>Rating</th>\n",
       "      <th>Votes</th>\n",
       "      <th>Revenue (Millions)</th>\n",
       "      <th>Metascore</th>\n",
       "      <th>rating_category</th>\n",
       "    </tr>\n",
       "  </thead>\n",
       "  <tbody>\n",
       "    <tr>\n",
       "      <th>0</th>\n",
       "      <td>1</td>\n",
       "      <td>Guardians of the Galaxy</td>\n",
       "      <td>Action,Adventure,Sci-Fi</td>\n",
       "      <td>A group of intergalactic criminals are forced ...</td>\n",
       "      <td>James Gunn</td>\n",
       "      <td>Chris Pratt, Vin Diesel, Bradley Cooper, Zoe S...</td>\n",
       "      <td>2014</td>\n",
       "      <td>121</td>\n",
       "      <td>8.1</td>\n",
       "      <td>757074</td>\n",
       "      <td>333.13</td>\n",
       "      <td>76.0</td>\n",
       "      <td>Excellent</td>\n",
       "    </tr>\n",
       "    <tr>\n",
       "      <th>1</th>\n",
       "      <td>2</td>\n",
       "      <td>Prometheus</td>\n",
       "      <td>Adventure,Mystery,Sci-Fi</td>\n",
       "      <td>Following clues to the origin of mankind, a te...</td>\n",
       "      <td>Ridley Scott</td>\n",
       "      <td>Noomi Rapace, Logan Marshall-Green, Michael Fa...</td>\n",
       "      <td>2012</td>\n",
       "      <td>124</td>\n",
       "      <td>7.0</td>\n",
       "      <td>485820</td>\n",
       "      <td>126.46</td>\n",
       "      <td>65.0</td>\n",
       "      <td>Good</td>\n",
       "    </tr>\n",
       "    <tr>\n",
       "      <th>2</th>\n",
       "      <td>3</td>\n",
       "      <td>Split</td>\n",
       "      <td>Horror,Thriller</td>\n",
       "      <td>Three girls are kidnapped by a man with a diag...</td>\n",
       "      <td>M. Night Shyamalan</td>\n",
       "      <td>James McAvoy, Anya Taylor-Joy, Haley Lu Richar...</td>\n",
       "      <td>2016</td>\n",
       "      <td>117</td>\n",
       "      <td>7.3</td>\n",
       "      <td>157606</td>\n",
       "      <td>138.12</td>\n",
       "      <td>62.0</td>\n",
       "      <td>Good</td>\n",
       "    </tr>\n",
       "    <tr>\n",
       "      <th>3</th>\n",
       "      <td>4</td>\n",
       "      <td>Sing</td>\n",
       "      <td>Animation,Comedy,Family</td>\n",
       "      <td>In a city of humanoid animals, a hustling thea...</td>\n",
       "      <td>Christophe Lourdelet</td>\n",
       "      <td>Matthew McConaughey,Reese Witherspoon, Seth Ma...</td>\n",
       "      <td>2016</td>\n",
       "      <td>108</td>\n",
       "      <td>7.2</td>\n",
       "      <td>60545</td>\n",
       "      <td>270.32</td>\n",
       "      <td>59.0</td>\n",
       "      <td>Good</td>\n",
       "    </tr>\n",
       "    <tr>\n",
       "      <th>4</th>\n",
       "      <td>5</td>\n",
       "      <td>Suicide Squad</td>\n",
       "      <td>Action,Adventure,Fantasy</td>\n",
       "      <td>A secret government agency recruits some of th...</td>\n",
       "      <td>David Ayer</td>\n",
       "      <td>Will Smith, Jared Leto, Margot Robbie, Viola D...</td>\n",
       "      <td>2016</td>\n",
       "      <td>123</td>\n",
       "      <td>6.2</td>\n",
       "      <td>393727</td>\n",
       "      <td>325.02</td>\n",
       "      <td>40.0</td>\n",
       "      <td>Avg</td>\n",
       "    </tr>\n",
       "  </tbody>\n",
       "</table>\n",
       "</div>"
      ],
      "text/plain": [
       "   Rank                    Title                     Genre  \\\n",
       "0     1  Guardians of the Galaxy   Action,Adventure,Sci-Fi   \n",
       "1     2               Prometheus  Adventure,Mystery,Sci-Fi   \n",
       "2     3                    Split           Horror,Thriller   \n",
       "3     4                     Sing   Animation,Comedy,Family   \n",
       "4     5            Suicide Squad  Action,Adventure,Fantasy   \n",
       "\n",
       "                                         Description              Director  \\\n",
       "0  A group of intergalactic criminals are forced ...            James Gunn   \n",
       "1  Following clues to the origin of mankind, a te...          Ridley Scott   \n",
       "2  Three girls are kidnapped by a man with a diag...    M. Night Shyamalan   \n",
       "3  In a city of humanoid animals, a hustling thea...  Christophe Lourdelet   \n",
       "4  A secret government agency recruits some of th...            David Ayer   \n",
       "\n",
       "                                              Actors  Year  Runtime (Minutes)  \\\n",
       "0  Chris Pratt, Vin Diesel, Bradley Cooper, Zoe S...  2014                121   \n",
       "1  Noomi Rapace, Logan Marshall-Green, Michael Fa...  2012                124   \n",
       "2  James McAvoy, Anya Taylor-Joy, Haley Lu Richar...  2016                117   \n",
       "3  Matthew McConaughey,Reese Witherspoon, Seth Ma...  2016                108   \n",
       "4  Will Smith, Jared Leto, Margot Robbie, Viola D...  2016                123   \n",
       "\n",
       "   Rating   Votes  Revenue (Millions)  Metascore rating_category  \n",
       "0     8.1  757074              333.13       76.0       Excellent  \n",
       "1     7.0  485820              126.46       65.0            Good  \n",
       "2     7.3  157606              138.12       62.0            Good  \n",
       "3     7.2   60545              270.32       59.0            Good  \n",
       "4     6.2  393727              325.02       40.0             Avg  "
      ]
     },
     "execution_count": 61,
     "metadata": {},
     "output_type": "execute_result"
    }
   ],
   "source": [
    "data.head()"
   ]
  },
  {
   "cell_type": "markdown",
   "id": "3a6f29ec",
   "metadata": {},
   "source": [
    "#### 21. Count number of action movies "
   ]
  },
  {
   "cell_type": "code",
   "execution_count": 64,
   "id": "1258d802",
   "metadata": {},
   "outputs": [
    {
     "data": {
      "text/plain": [
       "dtype('O')"
      ]
     },
     "execution_count": 64,
     "metadata": {},
     "output_type": "execute_result"
    }
   ],
   "source": [
    "data['Genre'].dtype"
   ]
  },
  {
   "cell_type": "code",
   "execution_count": 69,
   "id": "e2e89be7",
   "metadata": {},
   "outputs": [
    {
     "data": {
      "text/plain": [
       "303"
      ]
     },
     "execution_count": 69,
     "metadata": {},
     "output_type": "execute_result"
    }
   ],
   "source": [
    "sum(data['Genre'].str.contains(\"Action\", case = False))"
   ]
  },
  {
   "cell_type": "code",
   "execution_count": 70,
   "id": "4af556b1",
   "metadata": {},
   "outputs": [
    {
     "name": "stdout",
     "output_type": "stream",
     "text": [
      "We have 303 action movies\n"
     ]
    }
   ],
   "source": [
    "print(\"We have 303 action movies\")"
   ]
  },
  {
   "cell_type": "markdown",
   "id": "7dd6c99e",
   "metadata": {},
   "source": [
    "#### 22. Find unique values from genre"
   ]
  },
  {
   "cell_type": "code",
   "execution_count": 71,
   "id": "5db690a6",
   "metadata": {},
   "outputs": [
    {
     "data": {
      "text/plain": [
       "0       Action,Adventure,Sci-Fi\n",
       "1      Adventure,Mystery,Sci-Fi\n",
       "2               Horror,Thriller\n",
       "3       Animation,Comedy,Family\n",
       "4      Action,Adventure,Fantasy\n",
       "                 ...           \n",
       "995         Crime,Drama,Mystery\n",
       "996                      Horror\n",
       "997         Drama,Music,Romance\n",
       "998            Adventure,Comedy\n",
       "999       Comedy,Family,Fantasy\n",
       "Name: Genre, Length: 1000, dtype: object"
      ]
     },
     "execution_count": 71,
     "metadata": {},
     "output_type": "execute_result"
    }
   ],
   "source": [
    "data['Genre']"
   ]
  },
  {
   "cell_type": "code",
   "execution_count": 84,
   "id": "1ef72aed",
   "metadata": {},
   "outputs": [
    {
     "data": {
      "text/plain": [
       "[['Action', 'Adventure', 'Sci-Fi'],\n",
       " ['Adventure', 'Mystery', 'Sci-Fi'],\n",
       " ['Horror', 'Thriller'],\n",
       " ['Animation', 'Comedy', 'Family'],\n",
       " ['Action', 'Adventure', 'Fantasy'],\n",
       " ['Action', 'Adventure', 'Fantasy'],\n",
       " ['Comedy', 'Drama', 'Music'],\n",
       " ['Comedy'],\n",
       " ['Action', 'Adventure', 'Biography'],\n",
       " ['Adventure', 'Drama', 'Romance'],\n",
       " ['Adventure', 'Family', 'Fantasy'],\n",
       " ['Biography', 'Drama', 'History'],\n",
       " ['Action', 'Adventure', 'Sci-Fi'],\n",
       " ['Animation', 'Adventure', 'Comedy'],\n",
       " ['Action', 'Comedy', 'Drama'],\n",
       " ['Animation', 'Adventure', 'Comedy'],\n",
       " ['Biography', 'Drama', 'History'],\n",
       " ['Action', 'Thriller'],\n",
       " ['Biography', 'Drama'],\n",
       " ['Drama', 'Mystery', 'Sci-Fi'],\n",
       " ['Adventure', 'Drama', 'Thriller'],\n",
       " ['Drama'],\n",
       " ['Crime', 'Drama', 'Horror'],\n",
       " ['Animation', 'Adventure', 'Comedy'],\n",
       " ['Action', 'Adventure', 'Sci-Fi'],\n",
       " ['Comedy'],\n",
       " ['Action', 'Adventure', 'Drama'],\n",
       " ['Horror', 'Thriller'],\n",
       " ['Comedy'],\n",
       " ['Action', 'Adventure', 'Drama'],\n",
       " ['Comedy'],\n",
       " ['Drama', 'Thriller'],\n",
       " ['Action', 'Adventure', 'Sci-Fi'],\n",
       " ['Action', 'Adventure', 'Comedy'],\n",
       " ['Action', 'Horror', 'Sci-Fi'],\n",
       " ['Action', 'Adventure', 'Sci-Fi'],\n",
       " ['Adventure', 'Drama', 'Sci-Fi'],\n",
       " ['Action', 'Adventure', 'Fantasy'],\n",
       " ['Action', 'Adventure', 'Western'],\n",
       " ['Comedy', 'Drama'],\n",
       " ['Animation', 'Adventure', 'Comedy'],\n",
       " ['Drama'],\n",
       " ['Horror'],\n",
       " ['Biography', 'Drama', 'History'],\n",
       " ['Drama'],\n",
       " ['Action', 'Adventure', 'Fantasy'],\n",
       " ['Drama', 'Thriller'],\n",
       " ['Adventure', 'Drama', 'Fantasy'],\n",
       " ['Action', 'Adventure', 'Sci-Fi'],\n",
       " ['Drama'],\n",
       " ['Action', 'Adventure', 'Fantasy'],\n",
       " ['Action', 'Adventure', 'Fantasy'],\n",
       " ['Comedy', 'Drama'],\n",
       " ['Action', 'Crime', 'Thriller'],\n",
       " ['Action', 'Crime', 'Drama'],\n",
       " ['Adventure', 'Drama', 'History'],\n",
       " ['Crime', 'Horror', 'Thriller'],\n",
       " ['Drama', 'Romance'],\n",
       " ['Comedy', 'Drama', 'Romance'],\n",
       " ['Biography', 'Drama'],\n",
       " ['Action', 'Adventure', 'Sci-Fi'],\n",
       " ['Horror', 'Mystery', 'Thriller'],\n",
       " ['Crime', 'Drama', 'Mystery'],\n",
       " ['Drama', 'Romance', 'Thriller'],\n",
       " ['Drama', 'Mystery', 'Sci-Fi'],\n",
       " ['Action', 'Adventure', 'Comedy'],\n",
       " ['Drama', 'History', 'Thriller'],\n",
       " ['Action', 'Adventure', 'Sci-Fi'],\n",
       " ['Drama'],\n",
       " ['Action', 'Drama', 'Thriller'],\n",
       " ['Drama', 'History'],\n",
       " ['Action', 'Drama', 'Romance'],\n",
       " ['Drama', 'Fantasy'],\n",
       " ['Drama', 'Romance'],\n",
       " ['Animation', 'Adventure', 'Comedy'],\n",
       " ['Action', 'Adventure', 'Fantasy'],\n",
       " ['Action', 'Sci-Fi'],\n",
       " ['Adventure', 'Drama', 'War'],\n",
       " ['Action', 'Adventure', 'Fantasy'],\n",
       " ['Action', 'Comedy', 'Fantasy'],\n",
       " ['Action', 'Adventure', 'Sci-Fi'],\n",
       " ['Comedy', 'Drama'],\n",
       " ['Biography', 'Comedy', 'Crime'],\n",
       " ['Crime', 'Drama', 'Mystery'],\n",
       " ['Action', 'Crime', 'Thriller'],\n",
       " ['Action', 'Adventure', 'Sci-Fi'],\n",
       " ['Crime', 'Drama'],\n",
       " ['Action', 'Adventure', 'Fantasy'],\n",
       " ['Crime', 'Drama', 'Mystery'],\n",
       " ['Action', 'Crime', 'Drama'],\n",
       " ['Crime', 'Drama', 'Mystery'],\n",
       " ['Action', 'Adventure', 'Fantasy'],\n",
       " ['Drama'],\n",
       " ['Comedy', 'Crime', 'Drama'],\n",
       " ['Action', 'Adventure', 'Sci-Fi'],\n",
       " ['Action', 'Comedy', 'Crime'],\n",
       " ['Animation', 'Drama', 'Fantasy'],\n",
       " ['Horror', 'Mystery', 'Sci-Fi'],\n",
       " ['Drama', 'Mystery', 'Thriller'],\n",
       " ['Crime', 'Drama', 'Thriller'],\n",
       " ['Biography', 'Crime', 'Drama'],\n",
       " ['Action', 'Adventure', 'Fantasy'],\n",
       " ['Adventure', 'Drama', 'Sci-Fi'],\n",
       " ['Crime', 'Mystery', 'Thriller'],\n",
       " ['Action', 'Adventure', 'Comedy'],\n",
       " ['Crime', 'Drama', 'Thriller'],\n",
       " ['Comedy'],\n",
       " ['Action', 'Adventure', 'Drama'],\n",
       " ['Drama'],\n",
       " ['Drama', 'Mystery', 'Sci-Fi'],\n",
       " ['Action', 'Horror', 'Thriller'],\n",
       " ['Biography', 'Drama', 'History'],\n",
       " ['Romance', 'Sci-Fi'],\n",
       " ['Action', 'Fantasy', 'War'],\n",
       " ['Adventure', 'Drama', 'Fantasy'],\n",
       " ['Comedy'],\n",
       " ['Horror', 'Thriller'],\n",
       " ['Action', 'Biography', 'Drama'],\n",
       " ['Drama', 'Horror', 'Mystery'],\n",
       " ['Animation', 'Adventure', 'Comedy'],\n",
       " ['Adventure', 'Drama', 'Family'],\n",
       " ['Adventure', 'Mystery', 'Sci-Fi'],\n",
       " ['Adventure', 'Comedy', 'Romance'],\n",
       " ['Action'],\n",
       " ['Action', 'Thriller'],\n",
       " ['Adventure', 'Drama', 'Family'],\n",
       " ['Action', 'Adventure', 'Sci-Fi'],\n",
       " ['Adventure', 'Crime', 'Mystery'],\n",
       " ['Comedy', 'Family', 'Musical'],\n",
       " ['Adventure', 'Drama', 'Thriller'],\n",
       " ['Drama'],\n",
       " ['Adventure', 'Comedy', 'Drama'],\n",
       " ['Drama', 'Horror', 'Thriller'],\n",
       " ['Drama', 'Music'],\n",
       " ['Action', 'Crime', 'Thriller'],\n",
       " ['Crime', 'Drama', 'Thriller'],\n",
       " ['Crime', 'Drama', 'Thriller'],\n",
       " ['Drama', 'Romance'],\n",
       " ['Mystery', 'Thriller'],\n",
       " ['Mystery', 'Thriller', 'Western'],\n",
       " ['Action', 'Adventure', 'Sci-Fi'],\n",
       " ['Comedy', 'Family'],\n",
       " ['Biography', 'Comedy', 'Drama'],\n",
       " ['Drama'],\n",
       " ['Drama', 'Western'],\n",
       " ['Drama', 'Mystery', 'Romance'],\n",
       " ['Comedy', 'Drama'],\n",
       " ['Action', 'Drama', 'Mystery'],\n",
       " ['Comedy'],\n",
       " ['Action', 'Adventure', 'Crime'],\n",
       " ['Adventure', 'Family', 'Fantasy'],\n",
       " ['Adventure', 'Sci-Fi', 'Thriller'],\n",
       " ['Drama'],\n",
       " ['Action', 'Crime', 'Drama'],\n",
       " ['Drama', 'Horror', 'Mystery'],\n",
       " ['Action', 'Horror', 'Sci-Fi'],\n",
       " ['Action', 'Adventure', 'Sci-Fi'],\n",
       " ['Comedy', 'Drama', 'Romance'],\n",
       " ['Action', 'Comedy', 'Fantasy'],\n",
       " ['Action', 'Comedy', 'Mystery'],\n",
       " ['Thriller', 'War'],\n",
       " ['Action', 'Comedy', 'Crime'],\n",
       " ['Action', 'Adventure', 'Sci-Fi'],\n",
       " ['Action', 'Adventure', 'Crime'],\n",
       " ['Action', 'Adventure', 'Thriller'],\n",
       " ['Drama', 'Fantasy', 'Romance'],\n",
       " ['Action', 'Adventure', 'Comedy'],\n",
       " ['Biography', 'Drama', 'History'],\n",
       " ['Action', 'Drama', 'History'],\n",
       " ['Action', 'Adventure', 'Thriller'],\n",
       " ['Crime', 'Drama', 'Thriller'],\n",
       " ['Animation', 'Adventure', 'Family'],\n",
       " ['Adventure', 'Horror'],\n",
       " ['Drama', 'Romance', 'Sci-Fi'],\n",
       " ['Animation', 'Adventure', 'Comedy'],\n",
       " ['Action', 'Adventure', 'Family'],\n",
       " ['Action', 'Adventure', 'Drama'],\n",
       " ['Action', 'Comedy'],\n",
       " ['Horror', 'Mystery', 'Thriller'],\n",
       " ['Action', 'Adventure', 'Comedy'],\n",
       " ['Comedy', 'Romance'],\n",
       " ['Horror', 'Mystery'],\n",
       " ['Drama', 'Family', 'Fantasy'],\n",
       " ['Sci-Fi'],\n",
       " ['Drama', 'Thriller'],\n",
       " ['Drama', 'Romance'],\n",
       " ['Drama', 'War'],\n",
       " ['Drama', 'Fantasy', 'Horror'],\n",
       " ['Crime', 'Drama'],\n",
       " ['Comedy', 'Drama', 'Romance'],\n",
       " ['Drama', 'Romance'],\n",
       " ['Drama'],\n",
       " ['Crime', 'Drama', 'History'],\n",
       " ['Horror', 'Sci-Fi', 'Thriller'],\n",
       " ['Action', 'Drama', 'Sport'],\n",
       " ['Action', 'Adventure', 'Sci-Fi'],\n",
       " ['Crime', 'Drama', 'Thriller'],\n",
       " ['Adventure', 'Biography', 'Drama'],\n",
       " ['Biography', 'Drama', 'Thriller'],\n",
       " ['Action', 'Comedy', 'Crime'],\n",
       " ['Action', 'Adventure', 'Sci-Fi'],\n",
       " ['Drama', 'Fantasy', 'Horror'],\n",
       " ['Biography', 'Drama', 'Thriller'],\n",
       " ['Action', 'Adventure', 'Sci-Fi'],\n",
       " ['Action', 'Adventure', 'Mystery'],\n",
       " ['Action', 'Adventure', 'Sci-Fi'],\n",
       " ['Drama', 'Horror'],\n",
       " ['Comedy', 'Drama', 'Romance'],\n",
       " ['Comedy', 'Romance'],\n",
       " ['Drama', 'Horror', 'Thriller'],\n",
       " ['Action', 'Adventure', 'Drama'],\n",
       " ['Drama'],\n",
       " ['Action', 'Adventure', 'Sci-Fi'],\n",
       " ['Action', 'Drama', 'Mystery'],\n",
       " ['Action', 'Adventure', 'Fantasy'],\n",
       " ['Action', 'Adventure', 'Fantasy'],\n",
       " ['Action', 'Adventure', 'Sci-Fi'],\n",
       " ['Action', 'Adventure', 'Comedy'],\n",
       " ['Drama', 'Horror'],\n",
       " ['Action', 'Comedy'],\n",
       " ['Action', 'Adventure', 'Sci-Fi'],\n",
       " ['Animation', 'Adventure', 'Comedy'],\n",
       " ['Horror', 'Mystery'],\n",
       " ['Crime', 'Drama', 'Mystery'],\n",
       " ['Comedy', 'Crime'],\n",
       " ['Drama'],\n",
       " ['Comedy', 'Drama', 'Romance'],\n",
       " ['Action', 'Adventure', 'Sci-Fi'],\n",
       " ['Action', 'Adventure', 'Family'],\n",
       " ['Horror', 'Sci-Fi', 'Thriller'],\n",
       " ['Drama', 'Fantasy', 'War'],\n",
       " ['Crime', 'Drama', 'Thriller'],\n",
       " ['Action', 'Adventure', 'Drama'],\n",
       " ['Action', 'Adventure', 'Thriller'],\n",
       " ['Action', 'Adventure', 'Drama'],\n",
       " ['Drama', 'Romance'],\n",
       " ['Biography', 'Drama', 'History'],\n",
       " ['Drama', 'Horror', 'Thriller'],\n",
       " ['Adventure', 'Comedy', 'Drama'],\n",
       " ['Action', 'Adventure', 'Romance'],\n",
       " ['Action', 'Drama', 'War'],\n",
       " ['Animation', 'Adventure', 'Comedy'],\n",
       " ['Animation', 'Adventure', 'Comedy'],\n",
       " ['Action', 'Adventure', 'Sci-Fi'],\n",
       " ['Adventure', 'Family', 'Fantasy'],\n",
       " ['Drama', 'Musical', 'Romance'],\n",
       " ['Drama', 'Sci-Fi', 'Thriller'],\n",
       " ['Comedy', 'Drama'],\n",
       " ['Action', 'Comedy', 'Crime'],\n",
       " ['Biography', 'Comedy', 'Drama'],\n",
       " ['Comedy', 'Drama', 'Romance'],\n",
       " ['Drama', 'Thriller'],\n",
       " ['Biography', 'Drama', 'History'],\n",
       " ['Action', 'Adventure', 'Sci-Fi'],\n",
       " ['Horror', 'Mystery', 'Thriller'],\n",
       " ['Comedy'],\n",
       " ['Action', 'Adventure', 'Sci-Fi'],\n",
       " ['Action', 'Drama', 'Sci-Fi'],\n",
       " ['Horror'],\n",
       " ['Drama', 'Thriller'],\n",
       " ['Comedy', 'Drama', 'Romance'],\n",
       " ['Drama', 'Thriller'],\n",
       " ['Comedy', 'Drama'],\n",
       " ['Drama'],\n",
       " ['Action', 'Adventure', 'Comedy'],\n",
       " ['Drama', 'Horror', 'Thriller'],\n",
       " ['Comedy'],\n",
       " ['Drama', 'Sci-Fi'],\n",
       " ['Action', 'Adventure', 'Sci-Fi'],\n",
       " ['Horror'],\n",
       " ['Action', 'Adventure', 'Thriller'],\n",
       " ['Adventure', 'Fantasy'],\n",
       " ['Action', 'Comedy', 'Crime'],\n",
       " ['Comedy', 'Drama', 'Music'],\n",
       " ['Animation', 'Adventure', 'Comedy'],\n",
       " ['Action', 'Adventure', 'Mystery'],\n",
       " ['Action', 'Comedy', 'Crime'],\n",
       " ['Crime', 'Drama', 'History'],\n",
       " ['Comedy'],\n",
       " ['Action', 'Adventure', 'Sci-Fi'],\n",
       " ['Crime', 'Mystery', 'Thriller'],\n",
       " ['Action', 'Adventure', 'Crime'],\n",
       " ['Thriller'],\n",
       " ['Biography', 'Drama', 'Romance'],\n",
       " ['Action', 'Adventure'],\n",
       " ['Action', 'Fantasy'],\n",
       " ['Action', 'Comedy'],\n",
       " ['Action', 'Adventure', 'Sci-Fi'],\n",
       " ['Action', 'Comedy', 'Crime'],\n",
       " ['Thriller'],\n",
       " ['Action', 'Drama', 'Horror'],\n",
       " ['Comedy', 'Music', 'Romance'],\n",
       " ['Comedy'],\n",
       " ['Drama'],\n",
       " ['Action', 'Adventure', 'Fantasy'],\n",
       " ['Drama', 'Romance'],\n",
       " ['Animation', 'Adventure', 'Comedy'],\n",
       " ['Comedy', 'Drama'],\n",
       " ['Biography', 'Crime', 'Drama'],\n",
       " ['Drama', 'History'],\n",
       " ['Action', 'Crime', 'Thriller'],\n",
       " ['Action', 'Biography', 'Drama'],\n",
       " ['Horror'],\n",
       " ['Comedy', 'Romance'],\n",
       " ['Comedy', 'Romance'],\n",
       " ['Comedy', 'Crime', 'Drama'],\n",
       " ['Adventure', 'Family', 'Fantasy'],\n",
       " ['Crime', 'Drama', 'Thriller'],\n",
       " ['Action', 'Crime', 'Thriller'],\n",
       " ['Comedy', 'Romance'],\n",
       " ['Biography', 'Drama', 'Sport'],\n",
       " ['Drama', 'Romance'],\n",
       " ['Drama', 'Horror'],\n",
       " ['Adventure', 'Fantasy'],\n",
       " ['Adventure', 'Family', 'Fantasy'],\n",
       " ['Action', 'Drama', 'Sci-Fi'],\n",
       " ['Action', 'Adventure', 'Sci-Fi'],\n",
       " ['Action', 'Horror'],\n",
       " ['Comedy', 'Horror', 'Thriller'],\n",
       " ['Action', 'Crime', 'Thriller'],\n",
       " ['Crime', 'Drama', 'Music'],\n",
       " ['Drama'],\n",
       " ['Action', 'Crime', 'Thriller'],\n",
       " ['Action', 'Sci-Fi', 'Thriller'],\n",
       " ['Biography', 'Drama'],\n",
       " ['Action', 'Adventure', 'Fantasy'],\n",
       " ['Drama', 'Horror', 'Sci-Fi'],\n",
       " ['Biography', 'Comedy', 'Drama'],\n",
       " ['Crime', 'Horror', 'Thriller'],\n",
       " ['Crime', 'Drama', 'Mystery'],\n",
       " ['Animation', 'Adventure', 'Comedy'],\n",
       " ['Action', 'Biography', 'Drama'],\n",
       " ['Biography', 'Drama'],\n",
       " ['Biography', 'Drama', 'History'],\n",
       " ['Action', 'Biography', 'Drama'],\n",
       " ['Drama', 'Fantasy', 'Horror'],\n",
       " ['Comedy', 'Drama', 'Romance'],\n",
       " ['Drama', 'Sport'],\n",
       " ['Drama', 'Romance'],\n",
       " ['Comedy', 'Romance'],\n",
       " ['Action', 'Crime', 'Thriller'],\n",
       " ['Action', 'Crime', 'Drama'],\n",
       " ['Action', 'Drama', 'Thriller'],\n",
       " ['Adventure', 'Family', 'Fantasy'],\n",
       " ['Action', 'Adventure'],\n",
       " ['Action', 'Adventure', 'Romance'],\n",
       " ['Adventure', 'Family', 'Fantasy'],\n",
       " ['Crime', 'Drama'],\n",
       " ['Comedy', 'Horror'],\n",
       " ['Comedy', 'Fantasy', 'Romance'],\n",
       " ['Drama'],\n",
       " ['Drama'],\n",
       " ['Comedy', 'Drama'],\n",
       " ['Comedy', 'Drama', 'Romance'],\n",
       " ['Adventure', 'Sci-Fi', 'Thriller'],\n",
       " ['Action', 'Adventure', 'Fantasy'],\n",
       " ['Comedy', 'Drama'],\n",
       " ['Biography', 'Drama', 'Romance'],\n",
       " ['Comedy', 'Fantasy'],\n",
       " ['Comedy', 'Drama', 'Fantasy'],\n",
       " ['Comedy'],\n",
       " ['Horror', 'Thriller'],\n",
       " ['Action', 'Adventure', 'Sci-Fi'],\n",
       " ['Adventure', 'Comedy', 'Horror'],\n",
       " ['Comedy', 'Mystery'],\n",
       " ['Drama'],\n",
       " ['Adventure', 'Drama', 'Fantasy'],\n",
       " ['Drama', 'Sport'],\n",
       " ['Action', 'Adventure'],\n",
       " ['Action', 'Adventure', 'Drama'],\n",
       " ['Action', 'Drama', 'Sci-Fi'],\n",
       " ['Action', 'Mystery', 'Sci-Fi'],\n",
       " ['Action', 'Crime', 'Drama'],\n",
       " ['Action', 'Crime', 'Fantasy'],\n",
       " ['Biography', 'Comedy', 'Drama'],\n",
       " ['Action', 'Crime', 'Thriller'],\n",
       " ['Biography', 'Crime', 'Drama'],\n",
       " ['Drama', 'Sport'],\n",
       " ['Adventure', 'Comedy', 'Drama'],\n",
       " ['Action', 'Adventure', 'Thriller'],\n",
       " ['Comedy', 'Fantasy', 'Horror'],\n",
       " ['Drama', 'Sport'],\n",
       " ['Horror', 'Thriller'],\n",
       " ['Drama', 'History', 'Thriller'],\n",
       " ['Animation', 'Action', 'Adventure'],\n",
       " ['Action', 'Adventure', 'Drama'],\n",
       " ['Action', 'Comedy', 'Family'],\n",
       " ['Action', 'Adventure', 'Drama'],\n",
       " ['Action', 'Adventure', 'Sci-Fi'],\n",
       " ['Action', 'Adventure', 'Sci-Fi'],\n",
       " ['Action', 'Comedy'],\n",
       " ['Action', 'Crime', 'Drama'],\n",
       " ['Biography', 'Drama'],\n",
       " ['Comedy', 'Romance'],\n",
       " ['Comedy'],\n",
       " ['Drama', 'Fantasy', 'Romance'],\n",
       " ['Action', 'Adventure', 'Sci-Fi'],\n",
       " ['Comedy'],\n",
       " ['Comedy', 'Sci-Fi'],\n",
       " ['Comedy', 'Drama'],\n",
       " ['Animation', 'Action', 'Adventure'],\n",
       " ['Horror'],\n",
       " ['Action', 'Biography', 'Crime'],\n",
       " ['Animation', 'Adventure', 'Comedy'],\n",
       " ['Drama', 'Romance'],\n",
       " ['Drama', 'Mystery', 'Thriller'],\n",
       " ['Drama', 'History', 'Thriller'],\n",
       " ['Animation', 'Adventure', 'Comedy'],\n",
       " ['Action', 'Adventure', 'Sci-Fi'],\n",
       " ['Adventure', 'Comedy'],\n",
       " ['Action', 'Thriller'],\n",
       " ['Comedy', 'Music'],\n",
       " ['Animation', 'Adventure', 'Comedy'],\n",
       " ['Crime', 'Drama', 'Thriller'],\n",
       " ['Action', 'Adventure', 'Crime'],\n",
       " ['Comedy', 'Drama', 'Horror'],\n",
       " ['Drama'],\n",
       " ['Drama', 'Mystery', 'Romance'],\n",
       " ['Adventure', 'Family', 'Fantasy'],\n",
       " ['Drama'],\n",
       " ['Action', 'Drama', 'Thriller'],\n",
       " ['Drama'],\n",
       " ['Action', 'Horror', 'Romance'],\n",
       " ['Action', 'Drama', 'Fantasy'],\n",
       " ['Action', 'Crime', 'Drama'],\n",
       " ['Drama', 'Fantasy', 'Romance'],\n",
       " ['Action', 'Crime', 'Thriller'],\n",
       " ['Action', 'Mystery', 'Thriller'],\n",
       " ['Horror', 'Mystery', 'Thriller'],\n",
       " ['Action', 'Horror', 'Sci-Fi'],\n",
       " ['Comedy', 'Drama'],\n",
       " ['Comedy'],\n",
       " ['Action', 'Adventure', 'Horror'],\n",
       " ['Action', 'Adventure', 'Thriller'],\n",
       " ['Action', 'Crime', 'Drama'],\n",
       " ['Comedy', 'Crime', 'Drama'],\n",
       " ['Drama', 'Romance'],\n",
       " ['Drama', 'Thriller'],\n",
       " ['Action', 'Comedy', 'Crime'],\n",
       " ['Comedy'],\n",
       " ['Adventure', 'Family', 'Fantasy'],\n",
       " ['Drama', 'Romance'],\n",
       " ['Animation', 'Family', 'Fantasy'],\n",
       " ['Drama', 'Romance'],\n",
       " ['Thriller'],\n",
       " ['Adventure', 'Horror', 'Mystery'],\n",
       " ['Action', 'Sci-Fi'],\n",
       " ['Adventure', 'Comedy', 'Drama'],\n",
       " ['Animation', 'Action', 'Adventure'],\n",
       " ['Drama', 'Horror'],\n",
       " ['Action', 'Adventure', 'Sci-Fi'],\n",
       " ['Comedy', 'Drama'],\n",
       " ['Action', 'Horror', 'Mystery'],\n",
       " ['Action', 'Thriller'],\n",
       " ['Action', 'Adventure', 'Sci-Fi'],\n",
       " ['Drama'],\n",
       " ['Comedy', 'Drama', 'Romance'],\n",
       " ['Comedy', 'Crime'],\n",
       " ['Comedy', 'Romance'],\n",
       " ['Drama', 'Romance'],\n",
       " ['Crime', 'Drama', 'Thriller'],\n",
       " ['Horror', 'Mystery', 'Thriller'],\n",
       " ['Biography', 'Drama'],\n",
       " ['Drama', 'Mystery', 'Sci-Fi'],\n",
       " ['Adventure', 'Comedy', 'Family'],\n",
       " ['Action', 'Adventure', 'Crime'],\n",
       " ['Action', 'Crime', 'Mystery'],\n",
       " ['Mystery', 'Thriller'],\n",
       " ['Action', 'Sci-Fi', 'Thriller'],\n",
       " ['Action', 'Comedy', 'Crime'],\n",
       " ['Biography', 'Crime', 'Drama'],\n",
       " ['Biography', 'Drama', 'History'],\n",
       " ['Action', 'Adventure', 'Sci-Fi'],\n",
       " ['Adventure', 'Family', 'Fantasy'],\n",
       " ['Biography', 'Drama', 'History'],\n",
       " ['Biography', 'Comedy', 'Drama'],\n",
       " ['Drama', 'Thriller'],\n",
       " ['Horror', 'Thriller'],\n",
       " ['Drama'],\n",
       " ['Drama', 'War'],\n",
       " ['Comedy', 'Drama', 'Romance'],\n",
       " ['Drama', 'Romance', 'Sci-Fi'],\n",
       " ['Action', 'Crime', 'Drama'],\n",
       " ['Comedy', 'Drama'],\n",
       " ['Animation', 'Action', 'Adventure'],\n",
       " ['Adventure', 'Comedy', 'Drama'],\n",
       " ['Comedy', 'Drama', 'Family'],\n",
       " ['Drama', 'Romance', 'Thriller'],\n",
       " ['Comedy', 'Crime', 'Drama'],\n",
       " ['Animation', 'Comedy', 'Family'],\n",
       " ['Drama', 'Horror', 'Sci-Fi'],\n",
       " ['Action', 'Adventure', 'Drama'],\n",
       " ['Action', 'Horror', 'Sci-Fi'],\n",
       " ['Action', 'Crime', 'Sport'],\n",
       " ['Drama', 'Horror', 'Sci-Fi'],\n",
       " ['Drama', 'Horror', 'Sci-Fi'],\n",
       " ['Action', 'Adventure', 'Comedy'],\n",
       " ['Mystery', 'Sci-Fi', 'Thriller'],\n",
       " ['Crime', 'Drama', 'Thriller'],\n",
       " ['Animation', 'Adventure', 'Comedy'],\n",
       " ['Action', 'Sci-Fi', 'Thriller'],\n",
       " ['Drama', 'Romance'],\n",
       " ['Crime', 'Drama', 'Thriller'],\n",
       " ['Comedy', 'Drama', 'Music'],\n",
       " ['Drama', 'Fantasy', 'Romance'],\n",
       " ['Crime', 'Drama', 'Thriller'],\n",
       " ['Crime', 'Drama', 'Thriller'],\n",
       " ['Comedy', 'Drama', 'Romance'],\n",
       " ['Comedy', 'Romance'],\n",
       " ['Drama', 'Sci-Fi', 'Thriller'],\n",
       " ['Drama', 'War'],\n",
       " ['Action', 'Crime', 'Drama'],\n",
       " ['Sci-Fi', 'Thriller'],\n",
       " ['Adventure', 'Drama', 'Horror'],\n",
       " ['Comedy', 'Drama', 'Music'],\n",
       " ['Comedy', 'Drama', 'Romance'],\n",
       " ['Action', 'Adventure', 'Drama'],\n",
       " ['Action', 'Crime', 'Drama'],\n",
       " ['Adventure', 'Fantasy'],\n",
       " ['Drama', 'Romance'],\n",
       " ['Biography', 'History', 'Thriller'],\n",
       " ['Crime', 'Drama', 'Thriller'],\n",
       " ['Action', 'Drama', 'History'],\n",
       " ['Biography', 'Comedy', 'Drama'],\n",
       " ['Crime', 'Drama', 'Thriller'],\n",
       " ['Action', 'Biography', 'Drama'],\n",
       " ['Action', 'Drama', 'Sci-Fi'],\n",
       " ['Adventure', 'Horror'],\n",
       " ['Action', 'Adventure', 'Sci-Fi'],\n",
       " ['Action', 'Adventure', 'Mystery'],\n",
       " ['Comedy', 'Drama', 'Romance'],\n",
       " ['Horror', 'Thriller'],\n",
       " ['Action', 'Sci-Fi', 'Thriller'],\n",
       " ['Action', 'Sci-Fi', 'Thriller'],\n",
       " ['Biography', 'Drama'],\n",
       " ['Action', 'Crime', 'Drama'],\n",
       " ['Action', 'Crime', 'Mystery'],\n",
       " ['Action', 'Adventure', 'Comedy'],\n",
       " ['Crime', 'Drama', 'Thriller'],\n",
       " ['Crime', 'Drama'],\n",
       " ['Mystery', 'Thriller'],\n",
       " ['Mystery', 'Sci-Fi', 'Thriller'],\n",
       " ['Action', 'Mystery', 'Sci-Fi'],\n",
       " ['Drama', 'Romance'],\n",
       " ['Drama', 'Thriller'],\n",
       " ['Drama', 'Mystery', 'Sci-Fi'],\n",
       " ['Comedy', 'Drama'],\n",
       " ['Adventure', 'Family', 'Fantasy'],\n",
       " ['Biography', 'Drama', 'Sport'],\n",
       " ['Drama'],\n",
       " ['Comedy', 'Drama', 'Romance'],\n",
       " ['Biography', 'Drama', 'Romance'],\n",
       " ['Action', 'Adventure', 'Sci-Fi'],\n",
       " ['Drama', 'Sci-Fi', 'Thriller'],\n",
       " ['Drama', 'Romance', 'Thriller'],\n",
       " ['Mystery', 'Thriller'],\n",
       " ['Mystery', 'Thriller'],\n",
       " ['Action', 'Drama', 'Fantasy'],\n",
       " ['Action', 'Adventure', 'Biography'],\n",
       " ['Adventure', 'Comedy', 'Sci-Fi'],\n",
       " ['Action', 'Adventure', 'Thriller'],\n",
       " ['Fantasy', 'Horror'],\n",
       " ['Horror', 'Mystery'],\n",
       " ['Animation', 'Adventure', 'Comedy'],\n",
       " ['Action', 'Adventure', 'Drama'],\n",
       " ['Adventure', 'Family', 'Fantasy'],\n",
       " ['Action', 'Adventure', 'Sci-Fi'],\n",
       " ['Comedy', 'Drama'],\n",
       " ['Comedy', 'Drama'],\n",
       " ['Crime', 'Drama', 'Thriller'],\n",
       " ['Comedy', 'Romance'],\n",
       " ['Animation', 'Comedy', 'Family'],\n",
       " ['Comedy', 'Drama'],\n",
       " ['Comedy', 'Drama'],\n",
       " ['Biography', 'Drama', 'Sport'],\n",
       " ['Action', 'Adventure', 'Fantasy'],\n",
       " ['Action', 'Drama', 'History'],\n",
       " ['Action', 'Adventure', 'Sci-Fi'],\n",
       " ['Action', 'Adventure', 'Mystery'],\n",
       " ['Crime', 'Drama', 'Mystery'],\n",
       " ['Action'],\n",
       " ['Action', 'Adventure', 'Family'],\n",
       " ['Comedy', 'Romance'],\n",
       " ['Comedy', 'Drama', 'Romance'],\n",
       " ['Biography', 'Drama', 'Sport'],\n",
       " ['Action', 'Fantasy', 'Thriller'],\n",
       " ['Biography', 'Drama', 'Sport'],\n",
       " ['Action', 'Drama', 'Fantasy'],\n",
       " ['Adventure', 'Sci-Fi', 'Thriller'],\n",
       " ['Animation', 'Adventure', 'Comedy'],\n",
       " ['Drama', 'Mystery', 'Thriller'],\n",
       " ['Drama', 'Romance'],\n",
       " ['Crime', 'Drama', 'Mystery'],\n",
       " ['Comedy', 'Romance', 'Sport'],\n",
       " ['Comedy', 'Family'],\n",
       " ['Drama', 'Horror', 'Mystery'],\n",
       " ['Action', 'Drama', 'Sport'],\n",
       " ['Action', 'Adventure', 'Comedy'],\n",
       " ['Drama', 'Mystery', 'Sci-Fi'],\n",
       " ['Animation', 'Action', 'Comedy'],\n",
       " ['Action', 'Crime', 'Drama'],\n",
       " ['Action', 'Crime', 'Drama'],\n",
       " ['Comedy', 'Drama', 'Romance'],\n",
       " ['Animation', 'Action', 'Adventure'],\n",
       " ['Crime', 'Drama'],\n",
       " ['Drama'],\n",
       " ['Drama'],\n",
       " ['Comedy', 'Crime'],\n",
       " ['Drama'],\n",
       " ['Action', 'Adventure', 'Fantasy'],\n",
       " ['Drama', 'Fantasy', 'Romance'],\n",
       " ['Comedy', 'Drama'],\n",
       " ['Drama', 'Fantasy', 'Thriller'],\n",
       " ['Biography', 'Crime', 'Drama'],\n",
       " ['Comedy', 'Drama', 'Romance'],\n",
       " ['Action', 'Crime', 'Drama'],\n",
       " ['Sci-Fi'],\n",
       " ['Action', 'Biography', 'Drama'],\n",
       " ['Action', 'Comedy', 'Romance'],\n",
       " ['Adventure', 'Comedy', 'Drama'],\n",
       " ['Comedy', 'Crime', 'Drama'],\n",
       " ['Action', 'Fantasy', 'Horror'],\n",
       " ['Drama', 'Horror'],\n",
       " ['Horror'],\n",
       " ['Action', 'Thriller'],\n",
       " ['Action', 'Adventure', 'Mystery'],\n",
       " ['Action', 'Adventure', 'Fantasy'],\n",
       " ['Comedy', 'Drama', 'Romance'],\n",
       " ['Crime', 'Drama', 'Mystery'],\n",
       " ['Adventure', 'Comedy', 'Family'],\n",
       " ['Comedy', 'Drama', 'Romance'],\n",
       " ['Comedy'],\n",
       " ['Comedy', 'Drama', 'Horror'],\n",
       " ['Drama', 'Horror', 'Thriller'],\n",
       " ['Animation', 'Adventure', 'Family'],\n",
       " ['Comedy', 'Romance'],\n",
       " ['Mystery', 'Romance', 'Sci-Fi'],\n",
       " ['Crime', 'Drama'],\n",
       " ['Drama', 'Horror', 'Mystery'],\n",
       " ['Comedy'],\n",
       " ['Biography', 'Drama'],\n",
       " ['Comedy', 'Drama', 'Thriller'],\n",
       " ['Comedy', 'Western'],\n",
       " ['Drama', 'History', 'War'],\n",
       " ['Drama', 'Horror', 'Sci-Fi'],\n",
       " ['Drama'],\n",
       " ['Comedy', 'Drama'],\n",
       " ['Fantasy', 'Horror', 'Thriller'],\n",
       " ['Drama', 'Romance'],\n",
       " ['Action', 'Comedy', 'Fantasy'],\n",
       " ['Drama', 'Horror', 'Musical'],\n",
       " ['Crime', 'Drama', 'Mystery'],\n",
       " ['Horror', 'Mystery', 'Thriller'],\n",
       " ['Comedy', 'Music'],\n",
       " ['Drama'],\n",
       " ['Biography', 'Crime', 'Drama'],\n",
       " ['Drama'],\n",
       " ['Action', 'Adventure', 'Comedy'],\n",
       " ['Crime', 'Drama', 'Mystery'],\n",
       " ['Drama'],\n",
       " ['Action', 'Comedy', 'Crime'],\n",
       " ['Comedy', 'Drama', 'Romance'],\n",
       " ['Crime', 'Drama', 'Mystery'],\n",
       " ['Action', 'Comedy', 'Crime'],\n",
       " ['Drama'],\n",
       " ['Drama', 'Romance'],\n",
       " ['Crime', 'Drama', 'Mystery'],\n",
       " ['Adventure', 'Comedy', 'Romance'],\n",
       " ['Comedy', 'Crime', 'Drama'],\n",
       " ['Adventure', 'Drama', 'Thriller'],\n",
       " ['Biography', 'Crime', 'Drama'],\n",
       " ['Crime', 'Drama', 'Thriller'],\n",
       " ['Drama', 'History', 'Thriller'],\n",
       " ['Action', 'Adventure', 'Sci-Fi'],\n",
       " ['Action', 'Comedy'],\n",
       " ['Horror'],\n",
       " ['Action', 'Crime', 'Mystery'],\n",
       " ['Comedy', 'Romance'],\n",
       " ['Comedy'],\n",
       " ['Action', 'Drama', 'Thriller'],\n",
       " ['Action', 'Adventure', 'Sci-Fi'],\n",
       " ['Drama', 'Mystery', 'Thriller'],\n",
       " ['Comedy', 'Drama', 'Romance'],\n",
       " ['Action', 'Fantasy', 'Horror'],\n",
       " ['Drama', 'Romance'],\n",
       " ['Biography', 'Drama'],\n",
       " ['Biography', 'Drama'],\n",
       " ['Action', 'Adventure', 'Sci-Fi'],\n",
       " ['Animation', 'Adventure', 'Comedy'],\n",
       " ['Drama', 'Mystery', 'Thriller'],\n",
       " ['Action', 'Horror', 'Sci-Fi'],\n",
       " ['Drama', 'Romance'],\n",
       " ['Biography', 'Drama'],\n",
       " ['Action', 'Adventure', 'Drama'],\n",
       " ['Adventure', 'Drama', 'Fantasy'],\n",
       " ['Drama', 'Family'],\n",
       " ['Comedy', 'Drama', 'Romance'],\n",
       " ['Drama', 'Romance', 'Sci-Fi'],\n",
       " ['Action', 'Adventure', 'Thriller'],\n",
       " ['Comedy', 'Romance'],\n",
       " ['Crime', 'Drama', 'Horror'],\n",
       " ['Comedy', 'Fantasy'],\n",
       " ['Action', 'Comedy', 'Crime'],\n",
       " ['Adventure', 'Drama', 'Romance'],\n",
       " ['Action', 'Crime', 'Drama'],\n",
       " ['Crime', 'Horror', 'Thriller'],\n",
       " ['Romance', 'Sci-Fi', 'Thriller'],\n",
       " ['Comedy', 'Drama', 'Romance'],\n",
       " ['Crime', 'Drama'],\n",
       " ['Crime', 'Drama', 'Mystery'],\n",
       " ['Action', 'Adventure', 'Sci-Fi'],\n",
       " ['Animation', 'Fantasy'],\n",
       " ['Animation', 'Adventure', 'Comedy'],\n",
       " ['Drama', 'Mystery', 'War'],\n",
       " ['Comedy', 'Romance'],\n",
       " ['Animation', 'Comedy', 'Family'],\n",
       " ['Comedy'],\n",
       " ['Horror', 'Mystery', 'Thriller'],\n",
       " ['Action', 'Adventure', 'Drama'],\n",
       " ['Comedy'],\n",
       " ['Drama'],\n",
       " ['Adventure', 'Biography', 'Drama'],\n",
       " ['Comedy'],\n",
       " ['Horror', 'Thriller'],\n",
       " ['Action', 'Drama', 'Family'],\n",
       " ['Comedy', 'Fantasy', 'Horror'],\n",
       " ['Comedy', 'Romance'],\n",
       " ['Drama', 'Mystery', 'Romance'],\n",
       " ['Action', 'Adventure', 'Comedy'],\n",
       " ['Thriller'],\n",
       " ['Comedy'],\n",
       " ['Adventure', 'Comedy', 'Sci-Fi'],\n",
       " ['Comedy', 'Drama', 'Fantasy'],\n",
       " ['Mystery', 'Thriller'],\n",
       " ['Comedy', 'Drama'],\n",
       " ['Adventure', 'Drama', 'Family'],\n",
       " ['Horror', 'Thriller'],\n",
       " ['Action', 'Drama', 'Romance'],\n",
       " ['Drama', 'Romance'],\n",
       " ['Action', 'Adventure', 'Fantasy'],\n",
       " ['Comedy'],\n",
       " ['Action', 'Biography', 'Drama'],\n",
       " ['Drama', 'Mystery', 'Romance'],\n",
       " ['Adventure', 'Drama', 'Western'],\n",
       " ['Drama', 'Music', 'Romance'],\n",
       " ['Comedy', 'Romance', 'Western'],\n",
       " ['Thriller'],\n",
       " ['Comedy', 'Drama', 'Romance'],\n",
       " ['Horror', 'Thriller'],\n",
       " ['Adventure', 'Family', 'Fantasy'],\n",
       " ['Crime', 'Drama', 'Mystery'],\n",
       " ['Horror', 'Mystery'],\n",
       " ['Comedy', 'Crime', 'Drama'],\n",
       " ['Action', 'Comedy', 'Romance'],\n",
       " ['Biography', 'Drama', 'History'],\n",
       " ['Adventure', 'Drama'],\n",
       " ['Drama', 'Thriller'],\n",
       " ['Drama'],\n",
       " ['Action', 'Adventure', 'Fantasy'],\n",
       " ['Action', 'Biography', 'Drama'],\n",
       " ['Drama', 'Music'],\n",
       " ['Comedy', 'Drama'],\n",
       " ['Drama', 'Thriller', 'War'],\n",
       " ['Action', 'Mystery', 'Thriller'],\n",
       " ['Horror', 'Sci-Fi', 'Thriller'],\n",
       " ['Comedy', 'Drama', 'Romance'],\n",
       " ['Action', 'Sci-Fi'],\n",
       " ['Action', 'Adventure', 'Fantasy'],\n",
       " ['Drama', 'Mystery', 'Romance'],\n",
       " ['Drama'],\n",
       " ['Action', 'Adventure', 'Thriller'],\n",
       " ['Action', 'Crime', 'Thriller'],\n",
       " ['Animation', 'Action', 'Adventure'],\n",
       " ['Drama', 'Fantasy', 'Mystery'],\n",
       " ['Drama', 'Sci-Fi'],\n",
       " ['Animation', 'Adventure', 'Comedy'],\n",
       " ['Horror', 'Thriller'],\n",
       " ['Action', 'Thriller'],\n",
       " ['Comedy'],\n",
       " ['Biography', 'Drama'],\n",
       " ['Action', 'Mystery', 'Thriller'],\n",
       " ['Action', 'Mystery', 'Sci-Fi'],\n",
       " ['Crime', 'Drama', 'Thriller'],\n",
       " ['Comedy', 'Romance'],\n",
       " ['Comedy', 'Drama', 'Romance'],\n",
       " ['Biography', 'Drama', 'Thriller'],\n",
       " ['Drama'],\n",
       " ['Action', 'Adventure', 'Family'],\n",
       " ['Animation', 'Comedy', 'Family'],\n",
       " ['Action', 'Crime', 'Drama'],\n",
       " ['Comedy'],\n",
       " ['Comedy', 'Crime', 'Thriller'],\n",
       " ['Comedy', 'Romance'],\n",
       " ['Animation', 'Comedy', 'Drama'],\n",
       " ['Action', 'Crime', 'Thriller'],\n",
       " ['Comedy', 'Romance'],\n",
       " ['Adventure', 'Biography', 'Drama'],\n",
       " ['Animation', 'Adventure', 'Comedy'],\n",
       " ['Crime', 'Drama', 'Mystery'],\n",
       " ['Action', 'Comedy', 'Sci-Fi'],\n",
       " ['Comedy', 'Fantasy', 'Horror'],\n",
       " ['Comedy', 'Crime'],\n",
       " ['Animation', 'Action', 'Adventure'],\n",
       " ['Action', 'Drama', 'Thriller'],\n",
       " ['Fantasy', 'Horror'],\n",
       " ['Crime', 'Drama', 'Thriller'],\n",
       " ['Action', 'Adventure', 'Fantasy'],\n",
       " ['Comedy', 'Drama', 'Romance'],\n",
       " ['Biography', 'Drama', 'Romance'],\n",
       " ['Action', 'Drama', 'History'],\n",
       " ['Action', 'Adventure', 'Comedy'],\n",
       " ['Horror', 'Thriller'],\n",
       " ['Horror', 'Mystery', 'Thriller'],\n",
       " ['Comedy', 'Romance'],\n",
       " ['Animation', 'Adventure', 'Comedy'],\n",
       " ['Crime', 'Drama', 'Mystery'],\n",
       " ['Crime', 'Drama', 'Mystery'],\n",
       " ['Adventure', 'Biography', 'Drama'],\n",
       " ['Horror', 'Mystery', 'Thriller'],\n",
       " ['Horror', 'Thriller'],\n",
       " ['Drama', 'Romance', 'War'],\n",
       " ['Adventure', 'Fantasy', 'Mystery'],\n",
       " ['Action', 'Adventure', 'Sci-Fi'],\n",
       " ['Biography', 'Drama'],\n",
       " ['Drama', 'Thriller'],\n",
       " ['Horror', 'Thriller'],\n",
       " ['Drama', 'Horror', 'Thriller'],\n",
       " ['Action', 'Adventure', 'Fantasy'],\n",
       " ['Action', 'Horror', 'Thriller'],\n",
       " ['Comedy'],\n",
       " ['Drama', 'Sport'],\n",
       " ['Comedy', 'Family'],\n",
       " ['Drama', 'Romance'],\n",
       " ['Action', 'Adventure', 'Comedy'],\n",
       " ['Comedy'],\n",
       " ['Mystery', 'Romance', 'Thriller'],\n",
       " ['Crime', 'Drama'],\n",
       " ['Action', 'Comedy'],\n",
       " ['Crime', 'Drama', 'Mystery'],\n",
       " ['Biography', 'Drama', 'Romance'],\n",
       " ['Comedy', 'Crime'],\n",
       " ['Drama', 'Thriller'],\n",
       " ['Drama'],\n",
       " ['Animation', 'Adventure', 'Comedy'],\n",
       " ['Action', 'Thriller'],\n",
       " ['Drama', 'Thriller'],\n",
       " ['Animation', 'Adventure', 'Comedy'],\n",
       " ['Crime', 'Drama', 'Mystery'],\n",
       " ['Thriller'],\n",
       " ['Biography', 'Drama', 'Sport'],\n",
       " ['Crime', 'Drama', 'Thriller'],\n",
       " ['Drama', 'Music'],\n",
       " ['Crime', 'Drama', 'Thriller'],\n",
       " ['Drama', 'Romance'],\n",
       " ['Animation', 'Action', 'Adventure'],\n",
       " ['Comedy', 'Drama'],\n",
       " ['Action', 'Adventure', 'Drama'],\n",
       " ['Biography', 'Crime', 'Drama'],\n",
       " ['Horror'],\n",
       " ['Biography', 'Drama', 'Mystery'],\n",
       " ['Drama', 'Romance'],\n",
       " ['Animation', 'Drama', 'Romance'],\n",
       " ['Comedy', 'Family'],\n",
       " ['Drama'],\n",
       " ['Mystery', 'Thriller'],\n",
       " ['Drama', 'Fantasy', 'Horror'],\n",
       " ['Drama', 'Romance'],\n",
       " ['Biography', 'Drama', 'History'],\n",
       " ['Comedy', 'Family'],\n",
       " ['Action', 'Adventure', 'Thriller'],\n",
       " ['Comedy', 'Drama'],\n",
       " ['Action', 'Adventure', 'Fantasy'],\n",
       " ['Action', 'Thriller'],\n",
       " ['Drama', 'Romance'],\n",
       " ['Comedy', 'Drama', 'Romance'],\n",
       " ['Drama', 'Horror', 'Sci-Fi'],\n",
       " ['Comedy', 'Horror', 'Romance'],\n",
       " ['Drama'],\n",
       " ['Action', 'Adventure', 'Sci-Fi'],\n",
       " ['Action', 'Adventure', 'Fantasy'],\n",
       " ['Action', 'Adventure', 'Drama'],\n",
       " ['Biography', 'Comedy', 'Drama'],\n",
       " ['Drama', 'Mystery', 'Romance'],\n",
       " ['Animation', 'Adventure', 'Comedy'],\n",
       " ['Drama', 'Romance', 'Sci-Fi'],\n",
       " ['Drama'],\n",
       " ['Drama', 'Fantasy'],\n",
       " ['Drama', 'Romance'],\n",
       " ['Comedy', 'Horror', 'Thriller'],\n",
       " ['Comedy', 'Drama', 'Romance'],\n",
       " ['Crime', 'Drama'],\n",
       " ['Comedy', 'Romance'],\n",
       " ['Action', 'Drama', 'Family'],\n",
       " ['Comedy', 'Drama', 'Romance'],\n",
       " ['Action', 'Thriller', 'War'],\n",
       " ['Action', 'Comedy', 'Horror'],\n",
       " ['Biography', 'Drama', 'Sport'],\n",
       " ['Adventure', 'Comedy', 'Drama'],\n",
       " ['Comedy', 'Romance'],\n",
       " ['Comedy', 'Romance'],\n",
       " ['Comedy', 'Drama', 'Romance'],\n",
       " ['Action', 'Adventure', 'Crime'],\n",
       " ['Comedy', 'Romance'],\n",
       " ['Animation', 'Action', 'Adventure'],\n",
       " ['Action', 'Crime', 'Sci-Fi'],\n",
       " ['Drama'],\n",
       " ['Comedy', 'Drama', 'Romance'],\n",
       " ['Crime', 'Thriller'],\n",
       " ['Comedy', 'Horror', 'Sci-Fi'],\n",
       " ['Drama', 'Thriller'],\n",
       " ['Drama', 'Fantasy', 'Horror'],\n",
       " ['Thriller'],\n",
       " ['Adventure', 'Drama', 'Family'],\n",
       " ['Mystery', 'Sci-Fi', 'Thriller'],\n",
       " ['Biography', 'Crime', 'Drama'],\n",
       " ['Drama', 'Fantasy', 'Horror'],\n",
       " ['Action', 'Adventure', 'Thriller'],\n",
       " ['Crime', 'Drama', 'Horror'],\n",
       " ['Crime', 'Drama', 'Fantasy'],\n",
       " ['Adventure', 'Family', 'Fantasy'],\n",
       " ['Action', 'Adventure', 'Drama'],\n",
       " ['Action', 'Comedy', 'Horror'],\n",
       " ['Comedy', 'Drama', 'Family'],\n",
       " ['Action', 'Thriller'],\n",
       " ['Action', 'Adventure', 'Sci-Fi'],\n",
       " ['Adventure', 'Drama', 'Fantasy'],\n",
       " ['Drama'],\n",
       " ['Drama'],\n",
       " ['Comedy'],\n",
       " ['Drama'],\n",
       " ['Comedy', 'Drama', 'Music'],\n",
       " ['Drama', 'Fantasy', 'Music'],\n",
       " ['Drama'],\n",
       " ['Thriller'],\n",
       " ['Comedy', 'Horror'],\n",
       " ['Action', 'Comedy', 'Sport'],\n",
       " ['Horror'],\n",
       " ['Comedy', 'Drama'],\n",
       " ['Action', 'Drama', 'Thriller'],\n",
       " ['Drama', 'Romance'],\n",
       " ['Horror', 'Mystery'],\n",
       " ['Adventure', 'Drama', 'Fantasy'],\n",
       " ['Thriller'],\n",
       " ['Comedy', 'Romance'],\n",
       " ['Action', 'Sci-Fi', 'Thriller'],\n",
       " ['Fantasy', 'Mystery', 'Thriller'],\n",
       " ['Biography', 'Drama'],\n",
       " ['Crime', 'Drama'],\n",
       " ['Action', 'Adventure', 'Sci-Fi'],\n",
       " ['Adventure'],\n",
       " ['Comedy', 'Drama'],\n",
       " ['Comedy', 'Drama'],\n",
       " ['Comedy', 'Drama', 'Romance'],\n",
       " ['Adventure', 'Comedy', 'Drama'],\n",
       " ['Action', 'Sci-Fi', 'Thriller'],\n",
       " ['Comedy', 'Romance'],\n",
       " ['Action', 'Fantasy', 'Horror'],\n",
       " ['Crime', 'Drama', 'Thriller'],\n",
       " ['Action', 'Drama', 'Thriller'],\n",
       " ['Crime', 'Drama', 'Mystery'],\n",
       " ['Crime', 'Drama', 'Mystery'],\n",
       " ['Drama', 'Sci-Fi', 'Thriller'],\n",
       " ['Biography', 'Drama', 'History'],\n",
       " ['Crime', 'Horror', 'Thriller'],\n",
       " ['Drama'],\n",
       " ['Drama', 'Mystery', 'Thriller'],\n",
       " ['Adventure', 'Biography'],\n",
       " ['Adventure', 'Biography', 'Crime'],\n",
       " ['Action', 'Horror', 'Thriller'],\n",
       " ['Action', 'Adventure', 'Western'],\n",
       " ['Horror', 'Thriller'],\n",
       " ['Drama', 'Mystery', 'Thriller'],\n",
       " ['Comedy', 'Drama', 'Musical'],\n",
       " ['Horror', 'Mystery'],\n",
       " ['Biography', 'Drama', 'Sport'],\n",
       " ['Comedy', 'Family', 'Romance'],\n",
       " ['Drama', 'Mystery', 'Thriller'],\n",
       " ['Comedy'],\n",
       " ['Drama'],\n",
       " ['Drama', 'Thriller'],\n",
       " ['Biography', 'Drama', 'Family'],\n",
       " ['Comedy', 'Drama', 'Family'],\n",
       " ['Drama', 'Fantasy', 'Musical'],\n",
       " ['Comedy'],\n",
       " ['Adventure', 'Family'],\n",
       " ['Adventure', 'Comedy', 'Fantasy'],\n",
       " ['Horror', 'Thriller'],\n",
       " ['Drama', 'Romance'],\n",
       " ['Horror'],\n",
       " ['Biography', 'Drama', 'History'],\n",
       " ['Action', 'Adventure', 'Fantasy'],\n",
       " ['Drama', 'Family', 'Music'],\n",
       " ['Comedy', 'Drama', 'Romance'],\n",
       " ['Action', 'Adventure', 'Horror'],\n",
       " ['Comedy'],\n",
       " ['Crime', 'Drama', 'Mystery'],\n",
       " ['Horror'],\n",
       " ['Drama', 'Music', 'Romance'],\n",
       " ['Adventure', 'Comedy'],\n",
       " ['Comedy', 'Family', 'Fantasy']]"
      ]
     },
     "execution_count": 84,
     "metadata": {},
     "output_type": "execute_result"
    }
   ],
   "source": [
    "listl = []\n",
    "for value in data['Genre']:\n",
    "    listl.append(value.split(\",\"))\n",
    "    \n",
    "listl"
   ]
  },
  {
   "cell_type": "code",
   "execution_count": 86,
   "id": "3169f711",
   "metadata": {},
   "outputs": [],
   "source": [
    "list2 = []\n",
    "for item in listl:\n",
    "    for item1 in item:\n",
    "        list2.append(item1)"
   ]
  },
  {
   "cell_type": "code",
   "execution_count": 88,
   "id": "89b60a0b",
   "metadata": {},
   "outputs": [
    {
     "data": {
      "text/plain": [
       "['Action',\n",
       " 'Adventure',\n",
       " 'Sci-Fi',\n",
       " 'Mystery',\n",
       " 'Horror',\n",
       " 'Thriller',\n",
       " 'Animation',\n",
       " 'Comedy',\n",
       " 'Family',\n",
       " 'Fantasy',\n",
       " 'Drama',\n",
       " 'Music',\n",
       " 'Biography',\n",
       " 'Romance',\n",
       " 'History',\n",
       " 'Crime',\n",
       " 'Western',\n",
       " 'War',\n",
       " 'Musical',\n",
       " 'Sport']"
      ]
     },
     "execution_count": 88,
     "metadata": {},
     "output_type": "execute_result"
    }
   ],
   "source": [
    "unique_list = []\n",
    "for item in list2:\n",
    "    if item not in unique_list:\n",
    "        unique_list.append(item)\n",
    "        \n",
    "unique_list"
   ]
  },
  {
   "cell_type": "markdown",
   "id": "56914442",
   "metadata": {},
   "source": [
    "#### 23. How many Films of each Genre were mad?"
   ]
  },
  {
   "cell_type": "code",
   "execution_count": 91,
   "id": "fe0b9b80",
   "metadata": {},
   "outputs": [],
   "source": [
    "from collections import Counter"
   ]
  },
  {
   "cell_type": "code",
   "execution_count": 92,
   "id": "3a2cde31",
   "metadata": {},
   "outputs": [
    {
     "data": {
      "text/plain": [
       "Counter({'Action': 303,\n",
       "         'Adventure': 259,\n",
       "         'Sci-Fi': 120,\n",
       "         'Mystery': 106,\n",
       "         'Horror': 119,\n",
       "         'Thriller': 195,\n",
       "         'Animation': 49,\n",
       "         'Comedy': 279,\n",
       "         'Family': 51,\n",
       "         'Fantasy': 101,\n",
       "         'Drama': 513,\n",
       "         'Music': 16,\n",
       "         'Biography': 81,\n",
       "         'Romance': 141,\n",
       "         'History': 29,\n",
       "         'Crime': 150,\n",
       "         'Western': 7,\n",
       "         'War': 13,\n",
       "         'Musical': 5,\n",
       "         'Sport': 18})"
      ]
     },
     "execution_count": 92,
     "metadata": {},
     "output_type": "execute_result"
    }
   ],
   "source": [
    "Counter(list2)"
   ]
  }
 ],
 "metadata": {
  "kernelspec": {
   "display_name": "Python 3 (ipykernel)",
   "language": "python",
   "name": "python3"
  },
  "language_info": {
   "codemirror_mode": {
    "name": "ipython",
    "version": 3
   },
   "file_extension": ".py",
   "mimetype": "text/x-python",
   "name": "python",
   "nbconvert_exporter": "python",
   "pygments_lexer": "ipython3",
   "version": "3.9.7"
  }
 },
 "nbformat": 4,
 "nbformat_minor": 5
}
